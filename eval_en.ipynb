{
 "cells": [
  {
   "cell_type": "code",
   "execution_count": 1,
   "id": "6335c536-fe94-4bd9-a55c-5c07cb65cd08",
   "metadata": {},
   "outputs": [],
   "source": [
    "from sklearn.metrics import multilabel_confusion_matrix, classification_report, confusion_matrix\n",
    "import matplotlib.pyplot as plt\n",
    "import seaborn as sns\n",
    "import numpy as np\n",
    "import json"
   ]
  },
  {
   "cell_type": "code",
   "execution_count": 2,
   "id": "809c6fd1-3104-4537-937d-0327d00486f0",
   "metadata": {},
   "outputs": [],
   "source": [
    "labels = [\"backward\", \"forward\", \"right\", \"left\", \"down\", \"up\", \"go\", \"stop\", \"on\", \"off\", \"yes\", \"no\", \n",
    "          \"learn\", \"follow\", \"zero\", \"one\", \"two\", \"three\", \"four\", \"five\", \"six\", \"seven\", \"eight\", \n",
    "          \"nine\", \"bed\", \"bird\", \"cat\", \"dog\", \"happy\", \"house\", \"read\", \"write\", \"tree\", \"visual\", \"wow\"]"
   ]
  },
  {
   "cell_type": "code",
   "execution_count": 3,
   "id": "dbcaf5cb-f888-41bb-b67e-9c4a8391fbcf",
   "metadata": {},
   "outputs": [],
   "source": [
    "def results(preds_path, labels, print_cm=False):\n",
    "    # groundtruth and predicted \n",
    "    # labels\n",
    "    y_true = []\n",
    "    y_pred = []\n",
    "\n",
    "    # opening a JSON file\n",
    "    f = open(preds_path)\n",
    "\n",
    "    # returns JSON object as \n",
    "    # a dictionary\n",
    "    data = json.load(f)\n",
    "    # iterating through the json list\n",
    "    # and adding true and predicted labels\n",
    "    for t, p in data.items():\n",
    "        t = t.split('/')[-2]\n",
    "        if p == 'sheila':\n",
    "            p = 'read'\n",
    "        if p == 'marvin':\n",
    "            p = 'write'\n",
    "        y_true.append(t)\n",
    "        y_pred.append(p)\n",
    "\n",
    "    # closing file\n",
    "    f.close()\n",
    "    # generate the classification report\n",
    "    print(classification_report(y_true,y_pred, digits=4))\n",
    "    \n",
    "    if print_cm:\n",
    "        # generate a confusion matrix in %\n",
    "        cm = confusion_matrix(y_true, y_pred, labels=labels)\n",
    "        cmn = cm.astype('float') / cm.sum(axis=1)[:, np.newaxis] * 100\n",
    "        cmn = np.round(cmn,1)\n",
    "\n",
    "        # plot the confusion matrix in a beautiful manner\n",
    "        fig = plt.figure(figsize=(16, 16))\n",
    "        ax= plt.subplot()\n",
    "        sns.heatmap(cmn, annot=True, ax = ax, fmt=\".1f\", linewidth=.1, \n",
    "                    cmap='YlGn', cbar=False, square=True, linecolor='white')\n",
    "\n",
    "        # labels, title, and ticks\n",
    "        ax.set_xlabel('Predicted commands', fontsize=14)\n",
    "        ax.xaxis.set_label_position('bottom')\n",
    "        plt.xticks(rotation=90)\n",
    "        ax.xaxis.set_ticklabels(labels, fontsize=12)\n",
    "        ax.xaxis.tick_bottom()\n",
    "        ax.set_ylabel('Actual commands', fontsize=14)\n",
    "        ax.yaxis.set_ticklabels(labels, fontsize=12)\n",
    "        plt.yticks(rotation=0)\n",
    "        plt.title('Confusion Matrix', fontsize=16)\n",
    "        plt.savefig(\"confusion_matrix.png\")\n",
    "        plt.show()"
   ]
  },
  {
   "cell_type": "code",
   "execution_count": 4,
   "id": "8351bc47-1a3b-48d0-a2f5-cf05218ca443",
   "metadata": {},
   "outputs": [],
   "source": [
    "def results_2(preds_path, labels, print_cm=False):\n",
    "    # groundtruth and predicted \n",
    "    # labels\n",
    "    y_true = []\n",
    "    y_pred = []\n",
    "\n",
    "    # opening a JSON file\n",
    "    f = open(preds_path)\n",
    "    lang = preds_path.split('/')[1].split('_')[1]\n",
    "    print(lang)\n",
    "    # returns JSON object as \n",
    "    # a dictionary\n",
    "    data = json.load(f)\n",
    "    # iterating through the json list\n",
    "    # and adding true and predicted labels\n",
    "    for t, p in data.items():\n",
    "        t = t.split('/')[-2]\n",
    "        p = p.split('_')[0]\n",
    " \n",
    "        y_true.append(t)\n",
    "        y_pred.append(p)\n",
    "\n",
    "    # closing file\n",
    "    f.close()\n",
    "    # generate the classification report\n",
    "    print(classification_report(y_true,y_pred, digits=4))\n",
    "    \n",
    "    if print_cm:\n",
    "        # generate a confusion matrix in %\n",
    "        cm = confusion_matrix(y_true, y_pred, labels=labels)\n",
    "        cmn = cm.astype('float') / cm.sum(axis=1)[:, np.newaxis] * 100\n",
    "        cmn = np.round(cmn,1)\n",
    "\n",
    "        # plot the confusion matrix in a beautiful manner\n",
    "        fig = plt.figure(figsize=(16, 16))\n",
    "        ax= plt.subplot()\n",
    "        sns.heatmap(cmn, annot=True, ax = ax, fmt=\".1f\", linewidth=.1, \n",
    "                    cmap='YlGn', cbar=False, square=True, linecolor='white')\n",
    "\n",
    "        # labels, title, and ticks\n",
    "        ax.set_xlabel('Predicted commands', fontsize=14)\n",
    "        ax.xaxis.set_label_position('bottom')\n",
    "        plt.xticks(rotation=90)\n",
    "        ax.xaxis.set_ticklabels(labels, fontsize=12)\n",
    "        ax.xaxis.tick_bottom()\n",
    "        ax.set_ylabel('Actual commands', fontsize=14)\n",
    "        ax.yaxis.set_ticklabels(labels, fontsize=12)\n",
    "        plt.yticks(rotation=0)\n",
    "        plt.title('Confusion Matrix', fontsize=16)\n",
    "        plt.savefig(\"confusion_matrix.png\")\n",
    "        plt.show()\n",
    "    "
   ]
  },
  {
   "cell_type": "code",
   "execution_count": 5,
   "id": "70bf9068-02ee-44fc-838d-5129c477d93f",
   "metadata": {},
   "outputs": [
    {
     "name": "stdout",
     "output_type": "stream",
     "text": [
      "100%|███████████████████████████████████████████| 43/43 [00:20<00:00,  2.11it/s]\n",
      "Saved preds to outputs/mono_en/preds.json\n",
      "\u001b[0m"
     ]
    }
   ],
   "source": [
    "!python3 inference.py --conf checkpoints/mono-35-en/kwmlp_google.yaml \\\n",
    "                      --ckpt checkpoints/mono-35-en/best.pth \\\n",
    "                      --inp test_data_en/ \\\n",
    "                      --out outputs/mono_en/ \\\n",
    "                      --lmap checkpoints/mono-35-en/label_map.json \\\n",
    "                      --device cpu \\\n",
    "                      --batch_size 256 "
   ]
  },
  {
   "cell_type": "code",
   "execution_count": 6,
   "id": "c10e29dd-ef02-485d-8399-a5de30b36998",
   "metadata": {},
   "outputs": [
    {
     "name": "stdout",
     "output_type": "stream",
     "text": [
      "              precision    recall  f1-score   support\n",
      "\n",
      "    backward     0.9532    0.9879    0.9702       165\n",
      "         bed     0.9849    0.9469    0.9655       207\n",
      "        bird     0.9424    0.9730    0.9574       185\n",
      "         cat     0.9585    0.9536    0.9561       194\n",
      "         dog     0.9548    0.9591    0.9569       220\n",
      "        down     0.9823    0.9581    0.9701       406\n",
      "       eight     0.9949    0.9559    0.9750       408\n",
      "        five     0.9777    0.9843    0.9810       445\n",
      "      follow     0.9651    0.9651    0.9651       172\n",
      "     forward     0.9032    0.9032    0.9032       155\n",
      "        four     0.9521    0.9450    0.9486       400\n",
      "          go     0.9658    0.9826    0.9741       402\n",
      "       happy     0.9850    0.9704    0.9777       203\n",
      "       house     0.9590    0.9791    0.9689       191\n",
      "       learn     0.9375    0.9317    0.9346       161\n",
      "        left     0.9808    0.9903    0.9855       412\n",
      "        nine     0.9877    0.9853    0.9865       408\n",
      "          no     0.9757    0.9901    0.9828       405\n",
      "         off     0.9847    0.9627    0.9736       402\n",
      "          on     0.9772    0.9722    0.9747       396\n",
      "         one     0.9796    0.9649    0.9722       399\n",
      "        read     0.9905    0.9811    0.9858       212\n",
      "       right     0.9824    0.9874    0.9849       396\n",
      "       seven     0.9877    0.9877    0.9877       406\n",
      "         six     0.9847    0.9822    0.9835       394\n",
      "        stop     0.9927    0.9976    0.9951       411\n",
      "       three     0.9470    0.9704    0.9585       405\n",
      "        tree     0.9286    0.8756    0.9013       193\n",
      "         two     0.9629    0.9788    0.9708       424\n",
      "          up     0.9516    0.9718    0.9616       425\n",
      "      visual     0.9422    0.9879    0.9645       165\n",
      "         wow     0.9704    0.9563    0.9633       206\n",
      "       write     0.9948    0.9744    0.9845       195\n",
      "         yes     0.9929    0.9952    0.9940       419\n",
      "        zero     0.9787    0.9904    0.9845       418\n",
      "\n",
      "    accuracy                         0.9724     11005\n",
      "   macro avg     0.9688    0.9685    0.9686     11005\n",
      "weighted avg     0.9725    0.9724    0.9723     11005\n",
      "\n"
     ]
    }
   ],
   "source": [
    "results('outputs/mono_en/preds.json', labels)"
   ]
  },
  {
   "cell_type": "code",
   "execution_count": 7,
   "id": "08983383-ed53-4653-ada8-2df450eed63d",
   "metadata": {},
   "outputs": [
    {
     "name": "stdout",
     "output_type": "stream",
     "text": [
      "100%|███████████████████████████████████████████| 43/43 [00:22<00:00,  1.93it/s]\n",
      "Saved preds to outputs/multi_en/preds.json\n",
      "\u001b[0m"
     ]
    }
   ],
   "source": [
    "!python3 inference.py --conf checkpoints/multi-35/kwmlp_multi_35.yaml \\\n",
    "                      --ckpt checkpoints/multi-35/best.pth \\\n",
    "                      --inp test_data_en/ \\\n",
    "                      --out outputs/multi_en/ \\\n",
    "                      --lmap checkpoints/multi-35/label_map.json \\\n",
    "                      --device cpu \\\n",
    "                      --batch_size 256 "
   ]
  },
  {
   "cell_type": "code",
   "execution_count": 8,
   "id": "7c99ef75-d90a-4ef8-a227-6b3854bcc152",
   "metadata": {},
   "outputs": [
    {
     "name": "stdout",
     "output_type": "stream",
     "text": [
      "              precision    recall  f1-score   support\n",
      "\n",
      "    backward     0.9704    0.9939    0.9820       165\n",
      "         bed     0.9557    0.9372    0.9463       207\n",
      "        bird     0.9577    0.9784    0.9679       185\n",
      "         cat     0.9738    0.9588    0.9662       194\n",
      "         dog     0.9552    0.9682    0.9616       220\n",
      "        down     0.9724    0.9532    0.9627       406\n",
      "       eight     0.9878    0.9902    0.9890       408\n",
      "        five     0.9756    0.9865    0.9810       445\n",
      "      follow     0.9630    0.9070    0.9341       172\n",
      "     forward     0.9267    0.8968    0.9115       155\n",
      "        four     0.9416    0.9675    0.9544       400\n",
      "          go     0.9798    0.9652    0.9724       402\n",
      "       happy     0.9851    0.9803    0.9827       203\n",
      "       house     0.9947    0.9738    0.9841       191\n",
      "       learn     0.9548    0.9193    0.9367       161\n",
      "        left     0.9783    0.9854    0.9819       412\n",
      "        nine     0.9828    0.9828    0.9828       408\n",
      "          no     0.9709    0.9877    0.9792       405\n",
      "         off     0.9728    0.9776    0.9752       402\n",
      "          on     0.9772    0.9747    0.9760       396\n",
      "         one     0.9698    0.9649    0.9673       399\n",
      "        read     0.9859    0.9906    0.9882       212\n",
      "       right     0.9848    0.9798    0.9823       396\n",
      "       seven     0.9853    0.9877    0.9865       406\n",
      "         six     0.9823    0.9848    0.9835       394\n",
      "        stop     0.9880    0.9976    0.9927       411\n",
      "       three     0.9537    0.9654    0.9595       405\n",
      "        tree     0.8821    0.8912    0.8866       193\n",
      "         two     0.9767    0.9882    0.9824       424\n",
      "          up     0.9718    0.9741    0.9730       425\n",
      "      visual     0.9819    0.9879    0.9849       165\n",
      "         wow     0.9851    0.9660    0.9755       206\n",
      "       write     0.9792    0.9641    0.9716       195\n",
      "         yes     0.9905    0.9952    0.9929       419\n",
      "        zero     0.9879    0.9785    0.9832       418\n",
      "\n",
      "    accuracy                         0.9733     11005\n",
      "   macro avg     0.9709    0.9686    0.9697     11005\n",
      "weighted avg     0.9733    0.9733    0.9732     11005\n",
      "\n"
     ]
    }
   ],
   "source": [
    "results('outputs/multi_en/preds.json', labels)"
   ]
  },
  {
   "cell_type": "code",
   "execution_count": 9,
   "id": "4dd07360-a525-43a4-888b-4e98b062ab57",
   "metadata": {},
   "outputs": [
    {
     "name": "stdout",
     "output_type": "stream",
     "text": [
      "100%|███████████████████████████████████████████| 43/43 [00:20<00:00,  2.11it/s]\n",
      "Saved preds to outputs/multi_en_2/preds.json\n",
      "\u001b[0m"
     ]
    }
   ],
   "source": [
    "!python3 inference.py --conf checkpoints/multi-140/kwmlp_multi_140.yaml \\\n",
    "                      --ckpt checkpoints/multi-140/best.pth \\\n",
    "                      --inp test_data_en/ \\\n",
    "                      --out outputs/multi_en_2/ \\\n",
    "                      --lmap checkpoints/multi-140/label_map.json \\\n",
    "                      --device cpu \\\n",
    "                      --batch_size 256 "
   ]
  },
  {
   "cell_type": "code",
   "execution_count": 10,
   "id": "d1f06409-9ea1-4819-9c7f-88e189834f74",
   "metadata": {},
   "outputs": [
    {
     "name": "stdout",
     "output_type": "stream",
     "text": [
      "en\n",
      "              precision    recall  f1-score   support\n",
      "\n",
      "    backward     0.9760    0.9879    0.9819       165\n",
      "         bed     0.9604    0.9372    0.9487       207\n",
      "        bird     0.9519    0.9622    0.9570       185\n",
      "         cat     0.9388    0.9485    0.9436       194\n",
      "         dog     0.9815    0.9636    0.9725       220\n",
      "        down     0.9725    0.9581    0.9653       406\n",
      "       eight     0.9827    0.9730    0.9778       408\n",
      "        five     0.9821    0.9888    0.9854       445\n",
      "      follow     0.9425    0.9535    0.9480       172\n",
      "     forward     0.9467    0.9161    0.9311       155\n",
      "        four     0.9578    0.9650    0.9614       400\n",
      "          go     0.9581    0.9677    0.9629       402\n",
      "       happy     0.9850    0.9704    0.9777       203\n",
      "       house     0.9439    0.9686    0.9561       191\n",
      "       learn     0.9182    0.9068    0.9125       161\n",
      "        left     0.9736    0.9854    0.9795       412\n",
      "        nine     0.9828    0.9828    0.9828       408\n",
      "          no     0.9709    0.9901    0.9804       405\n",
      "         off     0.9819    0.9453    0.9632       402\n",
      "          on     0.9772    0.9722    0.9747       396\n",
      "         one     0.9699    0.9699    0.9699       399\n",
      "        read     0.9674    0.9811    0.9742       212\n",
      "       right     0.9848    0.9823    0.9836       396\n",
      "       seven     0.9876    0.9803    0.9839       406\n",
      "         six     0.9847    0.9822    0.9835       394\n",
      "        stop     0.9952    1.0000    0.9976       411\n",
      "       three     0.9470    0.9704    0.9585       405\n",
      "        tree     0.8995    0.8808    0.8901       193\n",
      "         two     0.9654    0.9858    0.9755       424\n",
      "          up     0.9645    0.9576    0.9610       425\n",
      "      visual     0.9643    0.9818    0.9730       165\n",
      "         wow     0.9754    0.9612    0.9682       206\n",
      "       write     1.0000    0.9795    0.9896       195\n",
      "         yes     0.9929    0.9976    0.9952       419\n",
      "        zero     0.9856    0.9856    0.9856       418\n",
      "\n",
      "    accuracy                         0.9712     11005\n",
      "   macro avg     0.9677    0.9668    0.9672     11005\n",
      "weighted avg     0.9712    0.9712    0.9712     11005\n",
      "\n"
     ]
    }
   ],
   "source": [
    "results_2('outputs/multi_en_2/preds.json', labels)"
   ]
  },
  {
   "cell_type": "code",
   "execution_count": null,
   "id": "30f55761-52f5-4b96-94ee-2d7d9177ae3d",
   "metadata": {},
   "outputs": [],
   "source": []
  }
 ],
 "metadata": {
  "kernelspec": {
   "display_name": "Python 3",
   "language": "python",
   "name": "python3"
  },
  "language_info": {
   "codemirror_mode": {
    "name": "ipython",
    "version": 3
   },
   "file_extension": ".py",
   "mimetype": "text/x-python",
   "name": "python",
   "nbconvert_exporter": "python",
   "pygments_lexer": "ipython3",
   "version": "3.8.10"
  }
 },
 "nbformat": 4,
 "nbformat_minor": 5
}
