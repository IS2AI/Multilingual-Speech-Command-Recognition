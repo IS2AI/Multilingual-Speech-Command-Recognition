{
 "cells": [
  {
   "cell_type": "code",
   "execution_count": 1,
   "id": "6335c536-fe94-4bd9-a55c-5c07cb65cd08",
   "metadata": {},
   "outputs": [],
   "source": [
    "from sklearn.metrics import multilabel_confusion_matrix, classification_report, confusion_matrix\n",
    "import matplotlib.pyplot as plt\n",
    "import seaborn as sns\n",
    "import numpy as np\n",
    "import json"
   ]
  },
  {
   "cell_type": "code",
   "execution_count": 2,
   "id": "809c6fd1-3104-4537-937d-0327d00486f0",
   "metadata": {},
   "outputs": [],
   "source": [
    "labels = [\"backward\", \"forward\", \"right\", \"left\", \"down\", \"up\", \"go\", \"stop\", \"on\", \"off\", \"yes\", \"no\", \n",
    "          \"learn\", \"follow\", \"zero\", \"one\", \"two\", \"three\", \"four\", \"five\", \"six\", \"seven\", \"eight\", \n",
    "          \"nine\", \"bed\", \"bird\", \"cat\", \"dog\", \"happy\", \"house\", \"read\", \"write\", \"tree\", \"visual\", \"wow\"]"
   ]
  },
  {
   "cell_type": "code",
   "execution_count": 3,
   "id": "dbcaf5cb-f888-41bb-b67e-9c4a8391fbcf",
   "metadata": {},
   "outputs": [],
   "source": [
    "def results(preds_path, labels, print_cm=False):\n",
    "    # groundtruth and predicted \n",
    "    # labels\n",
    "    y_true = []\n",
    "    y_pred = []\n",
    "\n",
    "    # opening a JSON file\n",
    "    f = open(preds_path)\n",
    "\n",
    "    # returns JSON object as \n",
    "    # a dictionary\n",
    "    data = json.load(f)\n",
    "    # iterating through the json list\n",
    "    # and adding true and predicted labels\n",
    "    for t, p in data.items():\n",
    "        t = t.split('/')[-2]\n",
    " \n",
    "        y_true.append(t)\n",
    "        y_pred.append(p)\n",
    "\n",
    "    # closing file\n",
    "    f.close()\n",
    "    # generate the classification report\n",
    "    print(classification_report(y_true,y_pred, digits=4))\n",
    "    \n",
    "    if print_cm:\n",
    "        # generate a confusion matrix in %\n",
    "        cm = confusion_matrix(y_true, y_pred, labels=labels)\n",
    "        cmn = cm.astype('float') / cm.sum(axis=1)[:, np.newaxis] * 100\n",
    "        cmn = np.round(cmn,1)\n",
    "\n",
    "        # plot the confusion matrix in a beautiful manner\n",
    "        fig = plt.figure(figsize=(16, 16))\n",
    "        ax= plt.subplot()\n",
    "        sns.heatmap(cmn, annot=True, ax = ax, fmt=\".1f\", linewidth=.1, \n",
    "                    cmap='YlGn', cbar=False, square=True, linecolor='white')\n",
    "\n",
    "        # labels, title, and ticks\n",
    "        ax.set_xlabel('Predicted commands', fontsize=14)\n",
    "        ax.xaxis.set_label_position('bottom')\n",
    "        plt.xticks(rotation=90)\n",
    "        ax.xaxis.set_ticklabels(labels, fontsize=12)\n",
    "        ax.xaxis.tick_bottom()\n",
    "        ax.set_ylabel('Actual commands', fontsize=14)\n",
    "        ax.yaxis.set_ticklabels(labels, fontsize=12)\n",
    "        plt.yticks(rotation=0)\n",
    "        plt.title('Confusion Matrix', fontsize=16)\n",
    "        plt.savefig(\"confusion_matrix.png\")\n",
    "        plt.show()"
   ]
  },
  {
   "cell_type": "code",
   "execution_count": 4,
   "id": "d68123c0-de74-435b-b67c-5c7ccaeff204",
   "metadata": {},
   "outputs": [],
   "source": [
    "def results_2(preds_path, labels, print_cm=False):\n",
    "    # groundtruth and predicted \n",
    "    # labels\n",
    "    y_true = []\n",
    "    y_pred = []\n",
    "\n",
    "    # opening a JSON file\n",
    "    f = open(preds_path)\n",
    "    lang = preds_path.split('/')[1].split('_')[1]\n",
    "    print(lang)\n",
    "    # returns JSON object as \n",
    "    # a dictionary\n",
    "    data = json.load(f)\n",
    "    # iterating through the json list\n",
    "    # and adding true and predicted labels\n",
    "    for t, p in data.items():\n",
    "        t = t.split('/')[-2]\n",
    "        p = p.split('_')[0]\n",
    " \n",
    "        y_true.append(t)\n",
    "        y_pred.append(p)\n",
    "\n",
    "    # closing file\n",
    "    f.close()\n",
    "    # generate the classification report\n",
    "    print(classification_report(y_true,y_pred, digits=4))\n",
    "    \n",
    "    if print_cm:\n",
    "        # generate a confusion matrix in %\n",
    "        cm = confusion_matrix(y_true, y_pred, labels=labels)\n",
    "        cmn = cm.astype('float') / cm.sum(axis=1)[:, np.newaxis] * 100\n",
    "        cmn = np.round(cmn,1)\n",
    "\n",
    "        # plot the confusion matrix in a beautiful manner\n",
    "        fig = plt.figure(figsize=(16, 16))\n",
    "        ax= plt.subplot()\n",
    "        sns.heatmap(cmn, annot=True, ax = ax, fmt=\".1f\", linewidth=.1, \n",
    "                    cmap='YlGn', cbar=False, square=True, linecolor='white')\n",
    "\n",
    "        # labels, title, and ticks\n",
    "        ax.set_xlabel('Predicted commands', fontsize=14)\n",
    "        ax.xaxis.set_label_position('bottom')\n",
    "        plt.xticks(rotation=90)\n",
    "        ax.xaxis.set_ticklabels(labels, fontsize=12)\n",
    "        ax.xaxis.tick_bottom()\n",
    "        ax.set_ylabel('Actual commands', fontsize=14)\n",
    "        ax.yaxis.set_ticklabels(labels, fontsize=12)\n",
    "        plt.yticks(rotation=0)\n",
    "        plt.title('Confusion Matrix', fontsize=16)\n",
    "        plt.savefig(\"confusion_matrix.png\")\n",
    "        plt.show()\n",
    "    "
   ]
  },
  {
   "cell_type": "code",
   "execution_count": 5,
   "id": "70bf9068-02ee-44fc-838d-5129c477d93f",
   "metadata": {},
   "outputs": [
    {
     "name": "stdout",
     "output_type": "stream",
     "text": [
      "100%|█████████████████████████████████████████████| 5/5 [00:02<00:00,  2.05it/s]\n",
      "Saved preds to outputs/mono_tt/preds.json\n",
      "\u001b[0m"
     ]
    }
   ],
   "source": [
    "!python3 inference.py --conf checkpoints/mono-35-tt/kwmlp_tscd.yaml \\\n",
    "                      --ckpt checkpoints/mono-35-tt/best.pth \\\n",
    "                      --inp test_data_tt/ \\\n",
    "                      --out outputs/mono_tt/ \\\n",
    "                      --lmap checkpoints/mono-35-tt/label_map.json \\\n",
    "                      --device cpu \\\n",
    "                      --batch_size 256 "
   ]
  },
  {
   "cell_type": "code",
   "execution_count": 6,
   "id": "c10e29dd-ef02-485d-8399-a5de30b36998",
   "metadata": {},
   "outputs": [
    {
     "name": "stdout",
     "output_type": "stream",
     "text": [
      "              precision    recall  f1-score   support\n",
      "\n",
      "    backward     1.0000    0.9667    0.9831        30\n",
      "         bed     1.0000    1.0000    1.0000        30\n",
      "        bird     1.0000    1.0000    1.0000        30\n",
      "         cat     1.0000    1.0000    1.0000        30\n",
      "         dog     0.9375    1.0000    0.9677        30\n",
      "        down     0.9677    1.0000    0.9836        30\n",
      "       eight     1.0000    1.0000    1.0000        30\n",
      "        five     1.0000    0.9333    0.9655        30\n",
      "      follow     1.0000    1.0000    1.0000        30\n",
      "     forward     1.0000    1.0000    1.0000        30\n",
      "        four     0.9655    0.9333    0.9492        30\n",
      "          go     1.0000    0.9667    0.9831        30\n",
      "       happy     1.0000    1.0000    1.0000        30\n",
      "       house     0.9667    0.9667    0.9667        30\n",
      "       learn     1.0000    1.0000    1.0000        30\n",
      "        left     1.0000    0.9667    0.9831        30\n",
      "        nine     1.0000    1.0000    1.0000        30\n",
      "          no     0.9677    1.0000    0.9836        30\n",
      "         off     1.0000    1.0000    1.0000        30\n",
      "          on     1.0000    1.0000    1.0000        30\n",
      "         one     1.0000    0.9000    0.9474        30\n",
      "        read     0.9355    0.9667    0.9508        30\n",
      "       right     0.9355    0.9667    0.9508        30\n",
      "       seven     1.0000    1.0000    1.0000        30\n",
      "         six     1.0000    0.9667    0.9831        30\n",
      "        stop     1.0000    1.0000    1.0000        30\n",
      "       three     0.9091    1.0000    0.9524        30\n",
      "        tree     1.0000    1.0000    1.0000        30\n",
      "         two     1.0000    1.0000    1.0000        30\n",
      "          up     1.0000    1.0000    1.0000        30\n",
      "      visual     1.0000    1.0000    1.0000        30\n",
      "         wow     1.0000    1.0000    1.0000        30\n",
      "       write     1.0000    1.0000    1.0000        30\n",
      "         yes     1.0000    1.0000    1.0000        30\n",
      "        zero     0.9677    1.0000    0.9836        30\n",
      "\n",
      "    accuracy                         0.9867      1050\n",
      "   macro avg     0.9872    0.9867    0.9867      1050\n",
      "weighted avg     0.9872    0.9867    0.9867      1050\n",
      "\n"
     ]
    }
   ],
   "source": [
    "results('outputs/mono_tt/preds.json', labels)"
   ]
  },
  {
   "cell_type": "code",
   "execution_count": 7,
   "id": "08983383-ed53-4653-ada8-2df450eed63d",
   "metadata": {},
   "outputs": [
    {
     "name": "stdout",
     "output_type": "stream",
     "text": [
      "100%|███████████████████████████████████████████| 42/42 [00:20<00:00,  2.05it/s]\n",
      "Saved preds to outputs/aug_mono_tt/preds.json\n",
      "\u001b[0m"
     ]
    }
   ],
   "source": [
    "!python3 inference.py --conf checkpoints/mono-35-tt/kwmlp_tscd.yaml \\\n",
    "                      --ckpt checkpoints/mono-35-tt/best.pth \\\n",
    "                      --inp aug_test_data_tt/ \\\n",
    "                      --out outputs/aug_mono_tt/ \\\n",
    "                      --lmap checkpoints/mono-35-tt/label_map.json \\\n",
    "                      --device cpu \\\n",
    "                      --batch_size 256 "
   ]
  },
  {
   "cell_type": "code",
   "execution_count": 8,
   "id": "0cd63f08-41a0-4adf-b7c0-3f7c1be1b8e4",
   "metadata": {},
   "outputs": [
    {
     "name": "stdout",
     "output_type": "stream",
     "text": [
      "              precision    recall  f1-score   support\n",
      "\n",
      "    backward     0.9929    0.9367    0.9640       300\n",
      "         bed     1.0000    0.9967    0.9983       300\n",
      "        bird     0.9933    0.9933    0.9933       300\n",
      "         cat     0.9901    1.0000    0.9950       300\n",
      "         dog     0.9346    1.0000    0.9662       300\n",
      "        down     0.9375    1.0000    0.9677       300\n",
      "       eight     1.0000    0.9833    0.9916       300\n",
      "        five     0.9861    0.9467    0.9660       300\n",
      "      follow     1.0000    1.0000    1.0000       300\n",
      "     forward     0.9801    0.9867    0.9834       300\n",
      "        four     0.9589    0.9333    0.9459       300\n",
      "          go     1.0000    0.9667    0.9831       300\n",
      "       happy     1.0000    1.0000    1.0000       300\n",
      "       house     0.9664    0.9600    0.9632       300\n",
      "       learn     0.9967    0.9967    0.9967       300\n",
      "        left     1.0000    0.9667    0.9831       300\n",
      "        nine     0.9967    0.9933    0.9950       300\n",
      "          no     0.9836    1.0000    0.9917       300\n",
      "         off     0.9967    1.0000    0.9983       300\n",
      "          on     0.9901    0.9967    0.9934       300\n",
      "         one     0.9963    0.8967    0.9439       300\n",
      "        read     0.9416    0.9667    0.9539       300\n",
      "       right     0.9276    0.9400    0.9338       300\n",
      "       seven     0.9967    1.0000    0.9983       300\n",
      "         six     0.9932    0.9700    0.9815       300\n",
      "        stop     1.0000    1.0000    1.0000       300\n",
      "       three     0.9226    0.9933    0.9567       300\n",
      "        tree     0.9967    1.0000    0.9983       300\n",
      "         two     0.9868    0.9933    0.9900       300\n",
      "          up     1.0000    0.9933    0.9967       300\n",
      "      visual     1.0000    1.0000    1.0000       300\n",
      "         wow     0.9901    0.9967    0.9934       300\n",
      "       write     0.9967    1.0000    0.9983       300\n",
      "         yes     0.9933    0.9900    0.9917       300\n",
      "        zero     0.9677    1.0000    0.9836       300\n",
      "\n",
      "    accuracy                         0.9828     10500\n",
      "   macro avg     0.9832    0.9828    0.9827     10500\n",
      "weighted avg     0.9832    0.9828    0.9827     10500\n",
      "\n"
     ]
    }
   ],
   "source": [
    "results('outputs/aug_mono_tt/preds.json', labels)"
   ]
  },
  {
   "cell_type": "code",
   "execution_count": 9,
   "id": "a82f470e-0606-4598-8c02-1bc2219c143b",
   "metadata": {},
   "outputs": [
    {
     "name": "stdout",
     "output_type": "stream",
     "text": [
      "100%|█████████████████████████████████████████████| 5/5 [00:02<00:00,  2.39it/s]\n",
      "Saved preds to outputs/multi_tt/preds.json\n",
      "\u001b[0m"
     ]
    }
   ],
   "source": [
    "!python3 inference.py --conf checkpoints/multi-35/kwmlp_multi_35.yaml \\\n",
    "                      --ckpt checkpoints/multi-35/best.pth \\\n",
    "                      --inp test_data_tt/ \\\n",
    "                      --out outputs/multi_tt/ \\\n",
    "                      --lmap checkpoints/multi-35/label_map.json \\\n",
    "                      --device cpu \\\n",
    "                      --batch_size 256 "
   ]
  },
  {
   "cell_type": "code",
   "execution_count": 10,
   "id": "7c99ef75-d90a-4ef8-a227-6b3854bcc152",
   "metadata": {},
   "outputs": [
    {
     "name": "stdout",
     "output_type": "stream",
     "text": [
      "              precision    recall  f1-score   support\n",
      "\n",
      "    backward     1.0000    1.0000    1.0000        30\n",
      "         bed     0.9677    1.0000    0.9836        30\n",
      "        bird     1.0000    1.0000    1.0000        30\n",
      "         cat     1.0000    1.0000    1.0000        30\n",
      "         dog     1.0000    1.0000    1.0000        30\n",
      "        down     1.0000    1.0000    1.0000        30\n",
      "       eight     1.0000    1.0000    1.0000        30\n",
      "        five     1.0000    0.9667    0.9831        30\n",
      "      follow     0.9677    1.0000    0.9836        30\n",
      "     forward     1.0000    1.0000    1.0000        30\n",
      "        four     1.0000    1.0000    1.0000        30\n",
      "          go     1.0000    0.9667    0.9831        30\n",
      "       happy     1.0000    1.0000    1.0000        30\n",
      "       house     1.0000    1.0000    1.0000        30\n",
      "       learn     1.0000    1.0000    1.0000        30\n",
      "        left     1.0000    0.9333    0.9655        30\n",
      "        nine     1.0000    1.0000    1.0000        30\n",
      "          no     1.0000    1.0000    1.0000        30\n",
      "         off     1.0000    1.0000    1.0000        30\n",
      "          on     1.0000    1.0000    1.0000        30\n",
      "         one     1.0000    0.9667    0.9831        30\n",
      "        read     1.0000    1.0000    1.0000        30\n",
      "       right     0.9375    1.0000    0.9677        30\n",
      "       seven     1.0000    1.0000    1.0000        30\n",
      "         six     1.0000    1.0000    1.0000        30\n",
      "        stop     1.0000    1.0000    1.0000        30\n",
      "       three     0.9677    1.0000    0.9836        30\n",
      "        tree     1.0000    1.0000    1.0000        30\n",
      "         two     1.0000    0.9667    0.9831        30\n",
      "          up     1.0000    1.0000    1.0000        30\n",
      "      visual     1.0000    1.0000    1.0000        30\n",
      "         wow     1.0000    0.9667    0.9831        30\n",
      "       write     1.0000    1.0000    1.0000        30\n",
      "         yes     0.9677    1.0000    0.9836        30\n",
      "        zero     0.9677    1.0000    0.9836        30\n",
      "\n",
      "    accuracy                         0.9933      1050\n",
      "   macro avg     0.9936    0.9933    0.9933      1050\n",
      "weighted avg     0.9936    0.9933    0.9933      1050\n",
      "\n"
     ]
    }
   ],
   "source": [
    "results('outputs/multi_tt/preds.json', labels)"
   ]
  },
  {
   "cell_type": "code",
   "execution_count": 11,
   "id": "12b05b71-3402-4da5-a1fa-97934383caf9",
   "metadata": {},
   "outputs": [
    {
     "name": "stdout",
     "output_type": "stream",
     "text": [
      "100%|███████████████████████████████████████████| 42/42 [00:19<00:00,  2.14it/s]\n",
      "Saved preds to outputs/aug_multi_tt/preds.json\n",
      "\u001b[0m"
     ]
    }
   ],
   "source": [
    "!python3 inference.py --conf checkpoints/multi-35/kwmlp_multi_35.yaml \\\n",
    "                      --ckpt checkpoints/multi-35/best.pth \\\n",
    "                      --inp aug_test_data_tt/ \\\n",
    "                      --out outputs/aug_multi_tt/ \\\n",
    "                      --lmap checkpoints/multi-35/label_map.json \\\n",
    "                      --device cpu \\\n",
    "                      --batch_size 256 "
   ]
  },
  {
   "cell_type": "code",
   "execution_count": 12,
   "id": "da915328-d583-4efe-8a9a-3a65f36f0275",
   "metadata": {},
   "outputs": [
    {
     "name": "stdout",
     "output_type": "stream",
     "text": [
      "              precision    recall  f1-score   support\n",
      "\n",
      "    backward     1.0000    0.9967    0.9983       300\n",
      "         bed     0.9740    1.0000    0.9868       300\n",
      "        bird     1.0000    1.0000    1.0000       300\n",
      "         cat     1.0000    1.0000    1.0000       300\n",
      "         dog     0.9967    1.0000    0.9983       300\n",
      "        down     0.9967    1.0000    0.9983       300\n",
      "       eight     0.9934    0.9967    0.9950       300\n",
      "        five     0.9965    0.9600    0.9779       300\n",
      "      follow     0.9868    1.0000    0.9934       300\n",
      "     forward     0.9901    0.9967    0.9934       300\n",
      "        four     0.9967    0.9967    0.9967       300\n",
      "          go     0.9898    0.9733    0.9815       300\n",
      "       happy     1.0000    1.0000    1.0000       300\n",
      "       house     1.0000    0.9967    0.9983       300\n",
      "       learn     0.9967    0.9967    0.9967       300\n",
      "        left     1.0000    0.9500    0.9744       300\n",
      "        nine     0.9967    0.9933    0.9950       300\n",
      "          no     0.9967    1.0000    0.9983       300\n",
      "         off     1.0000    1.0000    1.0000       300\n",
      "          on     0.9868    0.9967    0.9917       300\n",
      "         one     1.0000    0.9700    0.9848       300\n",
      "        read     0.9708    0.9967    0.9836       300\n",
      "       right     0.9481    0.9733    0.9605       300\n",
      "       seven     0.9967    0.9967    0.9967       300\n",
      "         six     0.9966    0.9800    0.9882       300\n",
      "        stop     0.9967    1.0000    0.9983       300\n",
      "       three     0.9645    0.9967    0.9803       300\n",
      "        tree     0.9967    1.0000    0.9983       300\n",
      "         two     0.9866    0.9800    0.9833       300\n",
      "          up     1.0000    0.9900    0.9950       300\n",
      "      visual     1.0000    1.0000    1.0000       300\n",
      "         wow     0.9966    0.9667    0.9814       300\n",
      "       write     1.0000    1.0000    1.0000       300\n",
      "         yes     0.9740    1.0000    0.9868       300\n",
      "        zero     0.9738    0.9900    0.9818       300\n",
      "\n",
      "    accuracy                         0.9912     10500\n",
      "   macro avg     0.9914    0.9912    0.9912     10500\n",
      "weighted avg     0.9914    0.9912    0.9912     10500\n",
      "\n"
     ]
    }
   ],
   "source": [
    "results('outputs/aug_multi_tt/preds.json', labels)"
   ]
  },
  {
   "cell_type": "code",
   "execution_count": 13,
   "id": "4dd07360-a525-43a4-888b-4e98b062ab57",
   "metadata": {},
   "outputs": [
    {
     "name": "stdout",
     "output_type": "stream",
     "text": [
      "100%|█████████████████████████████████████████████| 5/5 [00:02<00:00,  2.36it/s]\n",
      "Saved preds to outputs/multi_tt_2/preds.json\n",
      "\u001b[0m"
     ]
    }
   ],
   "source": [
    "!python3 inference.py --conf checkpoints/multi-140/kwmlp_multi_140.yaml \\\n",
    "                      --ckpt checkpoints/multi-140/best.pth \\\n",
    "                      --inp test_data_tt/ \\\n",
    "                      --out outputs/multi_tt_2/ \\\n",
    "                      --lmap checkpoints/multi-140/label_map.json \\\n",
    "                      --device cpu \\\n",
    "                      --batch_size 256 "
   ]
  },
  {
   "cell_type": "code",
   "execution_count": 14,
   "id": "d1f06409-9ea1-4819-9c7f-88e189834f74",
   "metadata": {},
   "outputs": [
    {
     "name": "stdout",
     "output_type": "stream",
     "text": [
      "tt\n",
      "              precision    recall  f1-score   support\n",
      "\n",
      "    backward     1.0000    1.0000    1.0000        30\n",
      "         bed     1.0000    1.0000    1.0000        30\n",
      "        bird     1.0000    1.0000    1.0000        30\n",
      "         cat     1.0000    1.0000    1.0000        30\n",
      "         dog     1.0000    1.0000    1.0000        30\n",
      "        down     1.0000    1.0000    1.0000        30\n",
      "       eight     1.0000    1.0000    1.0000        30\n",
      "        five     0.9667    0.9667    0.9667        30\n",
      "      follow     1.0000    1.0000    1.0000        30\n",
      "     forward     0.9375    1.0000    0.9677        30\n",
      "        four     1.0000    1.0000    1.0000        30\n",
      "          go     0.9667    0.9667    0.9667        30\n",
      "       happy     1.0000    1.0000    1.0000        30\n",
      "       house     1.0000    1.0000    1.0000        30\n",
      "       learn     1.0000    1.0000    1.0000        30\n",
      "        left     1.0000    0.9333    0.9655        30\n",
      "        nine     1.0000    1.0000    1.0000        30\n",
      "          no     1.0000    1.0000    1.0000        30\n",
      "         off     1.0000    1.0000    1.0000        30\n",
      "          on     1.0000    1.0000    1.0000        30\n",
      "         one     1.0000    1.0000    1.0000        30\n",
      "        read     0.9375    1.0000    0.9677        30\n",
      "       right     1.0000    0.9333    0.9655        30\n",
      "       seven     1.0000    1.0000    1.0000        30\n",
      "         six     1.0000    0.9667    0.9831        30\n",
      "        stop     1.0000    1.0000    1.0000        30\n",
      "       three     0.9667    0.9667    0.9667        30\n",
      "        tree     1.0000    1.0000    1.0000        30\n",
      "         two     1.0000    1.0000    1.0000        30\n",
      "          up     1.0000    1.0000    1.0000        30\n",
      "      visual     1.0000    1.0000    1.0000        30\n",
      "         wow     1.0000    1.0000    1.0000        30\n",
      "       write     1.0000    1.0000    1.0000        30\n",
      "         yes     1.0000    1.0000    1.0000        30\n",
      "        zero     0.9677    1.0000    0.9836        30\n",
      "\n",
      "    accuracy                         0.9924      1050\n",
      "   macro avg     0.9926    0.9924    0.9924      1050\n",
      "weighted avg     0.9926    0.9924    0.9924      1050\n",
      "\n"
     ]
    }
   ],
   "source": [
    "results_2('outputs/multi_tt_2/preds.json', labels)"
   ]
  },
  {
   "cell_type": "code",
   "execution_count": 15,
   "id": "e96a7470",
   "metadata": {},
   "outputs": [
    {
     "name": "stdout",
     "output_type": "stream",
     "text": [
      "100%|███████████████████████████████████████████| 42/42 [00:18<00:00,  2.23it/s]\n",
      "Saved preds to outputs/aug_multi_tt_2/preds.json\n",
      "\u001b[0m"
     ]
    }
   ],
   "source": [
    "!python3 inference.py --conf checkpoints/multi-140/kwmlp_multi_140.yaml \\\n",
    "                      --ckpt checkpoints/multi-140/best.pth \\\n",
    "                      --inp aug_test_data_tt/ \\\n",
    "                      --out outputs/aug_multi_tt_2/ \\\n",
    "                      --lmap checkpoints/multi-140/label_map.json \\\n",
    "                      --device cpu \\\n",
    "                      --batch_size 256                     "
   ]
  },
  {
   "cell_type": "code",
   "execution_count": 16,
   "id": "65323af4-f1fb-4956-89f1-59b144396aab",
   "metadata": {},
   "outputs": [
    {
     "name": "stdout",
     "output_type": "stream",
     "text": [
      "multi\n",
      "              precision    recall  f1-score   support\n",
      "\n",
      "    backward     1.0000    0.9933    0.9967       300\n",
      "         bed     1.0000    0.9867    0.9933       300\n",
      "        bird     1.0000    0.9967    0.9983       300\n",
      "         cat     1.0000    1.0000    1.0000       300\n",
      "         dog     0.9934    1.0000    0.9967       300\n",
      "        down     0.9934    1.0000    0.9967       300\n",
      "       eight     0.9934    0.9967    0.9950       300\n",
      "        five     0.9666    0.9633    0.9649       300\n",
      "      follow     0.9967    1.0000    0.9983       300\n",
      "     forward     0.9550    0.9900    0.9722       300\n",
      "        four     1.0000    0.9900    0.9950       300\n",
      "          go     0.9731    0.9633    0.9682       300\n",
      "       happy     1.0000    1.0000    1.0000       300\n",
      "       house     1.0000    0.9833    0.9916       300\n",
      "       learn     1.0000    1.0000    1.0000       300\n",
      "        left     1.0000    0.9433    0.9708       300\n",
      "        nine     0.9967    0.9967    0.9967       300\n",
      "          no     0.9934    0.9967    0.9950       300\n",
      "         off     0.9967    1.0000    0.9983       300\n",
      "          on     0.9967    0.9967    0.9967       300\n",
      "         one     1.0000    0.9967    0.9983       300\n",
      "        read     0.9342    0.9933    0.9628       300\n",
      "       right     0.9525    0.9367    0.9445       300\n",
      "       seven     1.0000    1.0000    1.0000       300\n",
      "         six     0.9966    0.9667    0.9814       300\n",
      "        stop     1.0000    0.9967    0.9983       300\n",
      "       three     0.9510    0.9700    0.9604       300\n",
      "        tree     0.9967    1.0000    0.9983       300\n",
      "         two     0.9901    1.0000    0.9950       300\n",
      "          up     0.9900    0.9900    0.9900       300\n",
      "      visual     1.0000    1.0000    1.0000       300\n",
      "         wow     1.0000    0.9800    0.9899       300\n",
      "       write     0.9967    1.0000    0.9983       300\n",
      "         yes     1.0000    1.0000    1.0000       300\n",
      "        zero     0.9612    0.9900    0.9754       300\n",
      "\n",
      "    accuracy                         0.9890     10500\n",
      "   macro avg     0.9892    0.9890    0.9891     10500\n",
      "weighted avg     0.9892    0.9890    0.9891     10500\n",
      "\n"
     ]
    }
   ],
   "source": [
    "results_2('outputs/aug_multi_tt_2/preds.json', labels)"
   ]
  },
  {
   "cell_type": "code",
   "execution_count": null,
   "id": "30f55761-52f5-4b96-94ee-2d7d9177ae3d",
   "metadata": {},
   "outputs": [],
   "source": []
  }
 ],
 "metadata": {
  "kernelspec": {
   "display_name": "Python 3",
   "language": "python",
   "name": "python3"
  },
  "language_info": {
   "codemirror_mode": {
    "name": "ipython",
    "version": 3
   },
   "file_extension": ".py",
   "mimetype": "text/x-python",
   "name": "python",
   "nbconvert_exporter": "python",
   "pygments_lexer": "ipython3",
   "version": "3.8.10"
  }
 },
 "nbformat": 4,
 "nbformat_minor": 5
}
