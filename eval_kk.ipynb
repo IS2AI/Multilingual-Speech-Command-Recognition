{
 "cells": [
  {
   "cell_type": "code",
   "execution_count": 1,
   "id": "6335c536-fe94-4bd9-a55c-5c07cb65cd08",
   "metadata": {},
   "outputs": [],
   "source": [
    "from sklearn.metrics import multilabel_confusion_matrix, classification_report, confusion_matrix\n",
    "import matplotlib.pyplot as plt\n",
    "import seaborn as sns\n",
    "import numpy as np\n",
    "import json"
   ]
  },
  {
   "cell_type": "code",
   "execution_count": 2,
   "id": "809c6fd1-3104-4537-937d-0327d00486f0",
   "metadata": {},
   "outputs": [],
   "source": [
    "labels = [\"backward\", \"forward\", \"right\", \"left\", \"down\", \"up\", \"go\", \"stop\", \"on\", \"off\", \"yes\", \"no\", \n",
    "          \"learn\", \"follow\", \"zero\", \"one\", \"two\", \"three\", \"four\", \"five\", \"six\", \"seven\", \"eight\", \n",
    "          \"nine\", \"bed\", \"bird\", \"cat\", \"dog\", \"happy\", \"house\", \"read\", \"write\", \"tree\", \"visual\", \"wow\"]"
   ]
  },
  {
   "cell_type": "code",
   "execution_count": 3,
   "id": "dbcaf5cb-f888-41bb-b67e-9c4a8391fbcf",
   "metadata": {},
   "outputs": [],
   "source": [
    "def results(preds_path, labels, print_cm=False):\n",
    "    # groundtruth and predicted \n",
    "    # labels\n",
    "    y_true = []\n",
    "    y_pred = []\n",
    "\n",
    "    # opening a JSON file\n",
    "    f = open(preds_path)\n",
    "\n",
    "    # returns JSON object as \n",
    "    # a dictionary\n",
    "    data = json.load(f)\n",
    "    # iterating through the json list\n",
    "    # and adding true and predicted labels\n",
    "    for t, p in data.items():\n",
    "        t = t.split('/')[-2]\n",
    " \n",
    "        y_true.append(t)\n",
    "        y_pred.append(p)\n",
    "\n",
    "    # closing file\n",
    "    f.close()\n",
    "    # generate the classification report\n",
    "    print(classification_report(y_true,y_pred, digits=4))\n",
    "    \n",
    "    if print_cm:\n",
    "        # generate a confusion matrix in %\n",
    "        cm = confusion_matrix(y_true, y_pred, labels=labels)\n",
    "        cmn = cm.astype('float') / cm.sum(axis=1)[:, np.newaxis] * 100\n",
    "        cmn = np.round(cmn,1)\n",
    "\n",
    "        # plot the confusion matrix in a beautiful manner\n",
    "        fig = plt.figure(figsize=(16, 16))\n",
    "        ax= plt.subplot()\n",
    "        sns.heatmap(cmn, annot=True, ax = ax, fmt=\".1f\", linewidth=.1, \n",
    "                    cmap='YlGn', cbar=False, square=True, linecolor='white')\n",
    "\n",
    "        # labels, title, and ticks\n",
    "        ax.set_xlabel('Predicted commands', fontsize=14)\n",
    "        ax.xaxis.set_label_position('bottom')\n",
    "        plt.xticks(rotation=90)\n",
    "        ax.xaxis.set_ticklabels(labels, fontsize=12)\n",
    "        ax.xaxis.tick_bottom()\n",
    "        ax.set_ylabel('Actual commands', fontsize=14)\n",
    "        ax.yaxis.set_ticklabels(labels, fontsize=12)\n",
    "        plt.yticks(rotation=0)\n",
    "        plt.title('Confusion Matrix', fontsize=16)\n",
    "        plt.savefig(\"confusion_matrix.png\")\n",
    "        plt.show()"
   ]
  },
  {
   "cell_type": "code",
   "execution_count": 4,
   "id": "d68123c0-de74-435b-b67c-5c7ccaeff204",
   "metadata": {},
   "outputs": [],
   "source": [
    "def results_2(preds_path, labels, print_cm=False):\n",
    "    # groundtruth and predicted \n",
    "    # labels\n",
    "    y_true = []\n",
    "    y_pred = []\n",
    "\n",
    "    # opening a JSON file\n",
    "    f = open(preds_path)\n",
    "    lang = preds_path.split('/')[1].split('_')[1]\n",
    "    print(lang)\n",
    "    # returns JSON object as \n",
    "    # a dictionary\n",
    "    data = json.load(f)\n",
    "    # iterating through the json list\n",
    "    # and adding true and predicted labels\n",
    "    for t, p in data.items():\n",
    "        t = t.split('/')[-2]\n",
    "        p = p.split('_')[0]\n",
    "        \n",
    "        y_true.append(t)\n",
    "        y_pred.append(p)\n",
    "\n",
    "    # closing file\n",
    "    f.close()\n",
    "    # generate the classification report\n",
    "    print(classification_report(y_true,y_pred, digits=4))\n",
    "    \n",
    "    if print_cm:\n",
    "        # generate a confusion matrix in %\n",
    "        cm = confusion_matrix(y_true, y_pred, labels=labels)\n",
    "        cmn = cm.astype('float') / cm.sum(axis=1)[:, np.newaxis] * 100\n",
    "        cmn = np.round(cmn,1)\n",
    "\n",
    "        # plot the confusion matrix in a beautiful manner\n",
    "        fig = plt.figure(figsize=(16, 16))\n",
    "        ax= plt.subplot()\n",
    "        sns.heatmap(cmn, annot=True, ax = ax, fmt=\".1f\", linewidth=.1, \n",
    "                    cmap='YlGn', cbar=False, square=True, linecolor='white')\n",
    "\n",
    "        # labels, title, and ticks\n",
    "        ax.set_xlabel('Predicted commands', fontsize=14)\n",
    "        ax.xaxis.set_label_position('bottom')\n",
    "        plt.xticks(rotation=90)\n",
    "        ax.xaxis.set_ticklabels(labels, fontsize=12)\n",
    "        ax.xaxis.tick_bottom()\n",
    "        ax.set_ylabel('Actual commands', fontsize=14)\n",
    "        ax.yaxis.set_ticklabels(labels, fontsize=12)\n",
    "        plt.yticks(rotation=0)\n",
    "        plt.title('Confusion Matrix', fontsize=16)\n",
    "        plt.savefig(\"confusion_matrix.png\")\n",
    "        plt.show()\n",
    "    "
   ]
  },
  {
   "cell_type": "code",
   "execution_count": 5,
   "id": "70bf9068-02ee-44fc-838d-5129c477d93f",
   "metadata": {},
   "outputs": [
    {
     "name": "stdout",
     "output_type": "stream",
     "text": [
      "100%|█████████████████████████████████████████████| 5/5 [00:02<00:00,  2.41it/s]\n",
      "Saved preds to outputs/mono_kk/preds.json\n",
      "\u001b[0m"
     ]
    }
   ],
   "source": [
    "!python3 inference.py --conf checkpoints/mono-35-kk/kwmlp_kscd.yaml \\\n",
    "                      --ckpt checkpoints/mono-35-kk/best.pth \\\n",
    "                      --inp test_data_kk/ \\\n",
    "                      --out outputs/mono_kk/ \\\n",
    "                      --lmap checkpoints/mono-35-kk/label_map.json \\\n",
    "                      --device cpu \\\n",
    "                      --batch_size 256 "
   ]
  },
  {
   "cell_type": "code",
   "execution_count": 6,
   "id": "c10e29dd-ef02-485d-8399-a5de30b36998",
   "metadata": {},
   "outputs": [
    {
     "name": "stdout",
     "output_type": "stream",
     "text": [
      "              precision    recall  f1-score   support\n",
      "\n",
      "    backward     0.9677    1.0000    0.9836        30\n",
      "         bed     1.0000    1.0000    1.0000        30\n",
      "        bird     0.8438    0.9000    0.8710        30\n",
      "         cat     0.9667    0.9667    0.9667        30\n",
      "         dog     0.9375    1.0000    0.9677        30\n",
      "        down     1.0000    1.0000    1.0000        30\n",
      "       eight     1.0000    1.0000    1.0000        30\n",
      "        five     0.9677    1.0000    0.9836        30\n",
      "      follow     0.9677    1.0000    0.9836        30\n",
      "     forward     1.0000    0.9333    0.9655        30\n",
      "        four     1.0000    0.9667    0.9831        30\n",
      "          go     1.0000    0.9667    0.9831        30\n",
      "       happy     1.0000    0.9667    0.9831        30\n",
      "       house     1.0000    0.9000    0.9474        30\n",
      "       learn     1.0000    0.9667    0.9831        30\n",
      "        left     1.0000    0.9667    0.9831        30\n",
      "        nine     0.9677    1.0000    0.9836        30\n",
      "          no     1.0000    1.0000    1.0000        30\n",
      "         off     1.0000    1.0000    1.0000        30\n",
      "          on     0.9259    0.8333    0.8772        30\n",
      "         one     0.9375    1.0000    0.9677        30\n",
      "        read     1.0000    1.0000    1.0000        30\n",
      "       right     0.9333    0.9333    0.9333        30\n",
      "       seven     1.0000    0.9333    0.9655        30\n",
      "         six     1.0000    1.0000    1.0000        30\n",
      "        stop     0.9062    0.9667    0.9355        30\n",
      "       three     1.0000    1.0000    1.0000        30\n",
      "        tree     1.0000    0.9667    0.9831        30\n",
      "         two     0.9375    1.0000    0.9677        30\n",
      "          up     0.9677    1.0000    0.9836        30\n",
      "      visual     1.0000    1.0000    1.0000        30\n",
      "         wow     0.9677    1.0000    0.9836        30\n",
      "       write     1.0000    1.0000    1.0000        30\n",
      "         yes     0.9677    1.0000    0.9836        30\n",
      "        zero     0.9655    0.9333    0.9492        30\n",
      "\n",
      "    accuracy                         0.9743      1050\n",
      "   macro avg     0.9751    0.9743    0.9742      1050\n",
      "weighted avg     0.9751    0.9743    0.9742      1050\n",
      "\n"
     ]
    }
   ],
   "source": [
    "results('outputs/mono_kk/preds.json', labels)"
   ]
  },
  {
   "cell_type": "code",
   "execution_count": 7,
   "id": "08983383-ed53-4653-ada8-2df450eed63d",
   "metadata": {},
   "outputs": [
    {
     "name": "stdout",
     "output_type": "stream",
     "text": [
      "100%|███████████████████████████████████████████| 42/42 [00:19<00:00,  2.11it/s]\n",
      "Saved preds to outputs/aug_mono_kk/preds.json\n",
      "\u001b[0m"
     ]
    }
   ],
   "source": [
    "!python3 inference.py --conf checkpoints/mono-35-kk/kwmlp_kscd.yaml \\\n",
    "                      --ckpt checkpoints/mono-35-kk/best.pth \\\n",
    "                      --inp aug_test_data_kk/ \\\n",
    "                      --out outputs/aug_mono_kk/ \\\n",
    "                      --lmap checkpoints/mono-35-kk/label_map.json \\\n",
    "                      --device cpu \\\n",
    "                      --batch_size 256 "
   ]
  },
  {
   "cell_type": "code",
   "execution_count": 8,
   "id": "0cd63f08-41a0-4adf-b7c0-3f7c1be1b8e4",
   "metadata": {},
   "outputs": [
    {
     "name": "stdout",
     "output_type": "stream",
     "text": [
      "              precision    recall  f1-score   support\n",
      "\n",
      "    backward     0.9733    0.9733    0.9733       300\n",
      "         bed     0.9934    1.0000    0.9967       300\n",
      "        bird     0.8520    0.8633    0.8576       300\n",
      "         cat     0.9541    0.9700    0.9620       300\n",
      "         dog     0.9521    0.9933    0.9723       300\n",
      "        down     0.9932    0.9667    0.9797       300\n",
      "       eight     0.9833    0.9833    0.9833       300\n",
      "        five     0.9582    0.9933    0.9755       300\n",
      "      follow     0.9734    0.9767    0.9750       300\n",
      "     forward     0.9556    0.9333    0.9444       300\n",
      "        four     0.9827    0.9467    0.9643       300\n",
      "          go     0.9719    0.9233    0.9470       300\n",
      "       happy     0.9932    0.9667    0.9797       300\n",
      "       house     0.9859    0.9300    0.9571       300\n",
      "       learn     0.9536    0.9600    0.9568       300\n",
      "        left     0.9663    0.9567    0.9615       300\n",
      "        nine     0.9575    0.9767    0.9670       300\n",
      "          no     0.9966    0.9833    0.9899       300\n",
      "         off     0.9867    0.9867    0.9867       300\n",
      "          on     0.8834    0.8333    0.8576       300\n",
      "         one     0.9498    0.9467    0.9482       300\n",
      "        read     0.9897    0.9633    0.9764       300\n",
      "       right     0.9070    0.9100    0.9085       300\n",
      "       seven     0.9728    0.9533    0.9630       300\n",
      "         six     0.9900    0.9933    0.9917       300\n",
      "        stop     0.9019    0.9500    0.9253       300\n",
      "       three     0.9900    0.9900    0.9900       300\n",
      "        tree     0.9966    0.9767    0.9865       300\n",
      "         two     0.9479    0.9700    0.9588       300\n",
      "          up     0.9581    0.9900    0.9738       300\n",
      "      visual     0.9967    0.9967    0.9967       300\n",
      "         wow     0.9644    0.9933    0.9787       300\n",
      "       write     0.9803    0.9933    0.9868       300\n",
      "         yes     0.9434    1.0000    0.9709       300\n",
      "        zero     0.9269    0.9300    0.9285       300\n",
      "\n",
      "    accuracy                         0.9621     10500\n",
      "   macro avg     0.9623    0.9621    0.9620     10500\n",
      "weighted avg     0.9623    0.9621    0.9620     10500\n",
      "\n"
     ]
    }
   ],
   "source": [
    "results('outputs/aug_mono_kk/preds.json', labels)"
   ]
  },
  {
   "cell_type": "code",
   "execution_count": 9,
   "id": "a82f470e-0606-4598-8c02-1bc2219c143b",
   "metadata": {},
   "outputs": [
    {
     "name": "stdout",
     "output_type": "stream",
     "text": [
      "100%|█████████████████████████████████████████████| 5/5 [00:02<00:00,  2.37it/s]\n",
      "Saved preds to outputs/multi_kk/preds.json\n",
      "\u001b[0m"
     ]
    }
   ],
   "source": [
    "!python3 inference.py --conf checkpoints/multi-35/kwmlp_multi_35.yaml \\\n",
    "                      --ckpt checkpoints/multi-35/best.pth \\\n",
    "                      --inp test_data_kk/ \\\n",
    "                      --out outputs/multi_kk/ \\\n",
    "                      --lmap checkpoints/multi-35/label_map.json \\\n",
    "                      --device cpu \\\n",
    "                      --batch_size 256 "
   ]
  },
  {
   "cell_type": "code",
   "execution_count": 10,
   "id": "7c99ef75-d90a-4ef8-a227-6b3854bcc152",
   "metadata": {},
   "outputs": [
    {
     "name": "stdout",
     "output_type": "stream",
     "text": [
      "              precision    recall  f1-score   support\n",
      "\n",
      "    backward     1.0000    0.9667    0.9831        30\n",
      "         bed     0.9677    1.0000    0.9836        30\n",
      "        bird     0.8710    0.9000    0.8852        30\n",
      "         cat     1.0000    1.0000    1.0000        30\n",
      "         dog     1.0000    1.0000    1.0000        30\n",
      "        down     1.0000    1.0000    1.0000        30\n",
      "       eight     1.0000    0.9667    0.9831        30\n",
      "        five     1.0000    1.0000    1.0000        30\n",
      "      follow     1.0000    0.9667    0.9831        30\n",
      "     forward     0.9677    1.0000    0.9836        30\n",
      "        four     0.9667    0.9667    0.9667        30\n",
      "          go     0.9375    1.0000    0.9677        30\n",
      "       happy     0.9677    1.0000    0.9836        30\n",
      "       house     1.0000    1.0000    1.0000        30\n",
      "       learn     1.0000    1.0000    1.0000        30\n",
      "        left     1.0000    0.9667    0.9831        30\n",
      "        nine     1.0000    1.0000    1.0000        30\n",
      "          no     1.0000    1.0000    1.0000        30\n",
      "         off     1.0000    1.0000    1.0000        30\n",
      "          on     0.8966    0.8667    0.8814        30\n",
      "         one     1.0000    0.9667    0.9831        30\n",
      "        read     1.0000    1.0000    1.0000        30\n",
      "       right     0.9677    1.0000    0.9836        30\n",
      "       seven     1.0000    0.9667    0.9831        30\n",
      "         six     0.9677    1.0000    0.9836        30\n",
      "        stop     1.0000    1.0000    1.0000        30\n",
      "       three     1.0000    1.0000    1.0000        30\n",
      "        tree     1.0000    1.0000    1.0000        30\n",
      "         two     1.0000    1.0000    1.0000        30\n",
      "          up     1.0000    0.9667    0.9831        30\n",
      "      visual     1.0000    1.0000    1.0000        30\n",
      "         wow     1.0000    1.0000    1.0000        30\n",
      "       write     1.0000    1.0000    1.0000        30\n",
      "         yes     1.0000    1.0000    1.0000        30\n",
      "        zero     1.0000    1.0000    1.0000        30\n",
      "\n",
      "    accuracy                         0.9857      1050\n",
      "   macro avg     0.9860    0.9857    0.9857      1050\n",
      "weighted avg     0.9860    0.9857    0.9857      1050\n",
      "\n"
     ]
    }
   ],
   "source": [
    "results('outputs/multi_kk/preds.json', labels)"
   ]
  },
  {
   "cell_type": "code",
   "execution_count": 11,
   "id": "12b05b71-3402-4da5-a1fa-97934383caf9",
   "metadata": {},
   "outputs": [
    {
     "name": "stdout",
     "output_type": "stream",
     "text": [
      "100%|███████████████████████████████████████████| 42/42 [00:19<00:00,  2.13it/s]\n",
      "Saved preds to outputs/aug_multi_kk/preds.json\n",
      "\u001b[0m"
     ]
    }
   ],
   "source": [
    "!python3 inference.py --conf checkpoints/multi-35/kwmlp_multi_35.yaml \\\n",
    "                      --ckpt checkpoints/multi-35/best.pth \\\n",
    "                      --inp aug_test_data_kk/ \\\n",
    "                      --out outputs/aug_multi_kk/ \\\n",
    "                      --lmap checkpoints/multi-35/label_map.json \\\n",
    "                      --device cpu \\\n",
    "                      --batch_size 256 "
   ]
  },
  {
   "cell_type": "code",
   "execution_count": 12,
   "id": "da915328-d583-4efe-8a9a-3a65f36f0275",
   "metadata": {},
   "outputs": [
    {
     "name": "stdout",
     "output_type": "stream",
     "text": [
      "              precision    recall  f1-score   support\n",
      "\n",
      "    backward     1.0000    0.9667    0.9831       300\n",
      "         bed     0.9646    1.0000    0.9820       300\n",
      "        bird     0.8667    0.8667    0.8667       300\n",
      "         cat     0.9769    0.9867    0.9818       300\n",
      "         dog     0.9868    0.9967    0.9917       300\n",
      "        down     0.9966    0.9767    0.9865       300\n",
      "       eight     0.9966    0.9833    0.9899       300\n",
      "        five     0.9967    0.9933    0.9950       300\n",
      "      follow     0.9930    0.9500    0.9710       300\n",
      "     forward     0.9455    0.9833    0.9641       300\n",
      "        four     0.9693    0.9467    0.9578       300\n",
      "          go     0.9397    0.9867    0.9626       300\n",
      "       happy     0.9833    0.9833    0.9833       300\n",
      "       house     0.9801    0.9867    0.9834       300\n",
      "       learn     0.9739    0.9967    0.9852       300\n",
      "        left     0.9732    0.9700    0.9716       300\n",
      "        nine     0.9868    0.9933    0.9900       300\n",
      "          no     1.0000    0.9900    0.9950       300\n",
      "         off     0.9933    0.9900    0.9917       300\n",
      "          on     0.8682    0.8567    0.8624       300\n",
      "         one     0.9965    0.9400    0.9674       300\n",
      "        read     0.9933    0.9867    0.9900       300\n",
      "       right     0.9329    0.9733    0.9527       300\n",
      "       seven     0.9898    0.9700    0.9798       300\n",
      "         six     0.9771    0.9967    0.9868       300\n",
      "        stop     0.9834    0.9867    0.9850       300\n",
      "       three     1.0000    0.9933    0.9967       300\n",
      "        tree     0.9967    1.0000    0.9983       300\n",
      "         two     0.9932    0.9767    0.9849       300\n",
      "          up     0.9864    0.9667    0.9764       300\n",
      "      visual     1.0000    1.0000    1.0000       300\n",
      "         wow     0.9835    0.9933    0.9884       300\n",
      "       write     0.9901    0.9967    0.9934       300\n",
      "         yes     0.9706    0.9900    0.9802       300\n",
      "        zero     0.9834    0.9867    0.9850       300\n",
      "\n",
      "    accuracy                         0.9760     10500\n",
      "   macro avg     0.9762    0.9760    0.9760     10500\n",
      "weighted avg     0.9762    0.9760    0.9760     10500\n",
      "\n"
     ]
    }
   ],
   "source": [
    "results('outputs/aug_multi_kk/preds.json', labels)"
   ]
  },
  {
   "cell_type": "code",
   "execution_count": 13,
   "id": "4dd07360-a525-43a4-888b-4e98b062ab57",
   "metadata": {},
   "outputs": [
    {
     "name": "stdout",
     "output_type": "stream",
     "text": [
      "100%|█████████████████████████████████████████████| 5/5 [00:02<00:00,  2.39it/s]\n",
      "Saved preds to outputs/multi_kk_2/preds.json\n",
      "\u001b[0m"
     ]
    }
   ],
   "source": [
    "!python3 inference.py --conf checkpoints/multi-140/kwmlp_multi_140.yaml \\\n",
    "                      --ckpt checkpoints/multi-140/best.pth \\\n",
    "                      --inp test_data_kk/ \\\n",
    "                      --out outputs/multi_kk_2/ \\\n",
    "                      --lmap checkpoints/multi-140/label_map.json \\\n",
    "                      --device cpu \\\n",
    "                      --batch_size 256 "
   ]
  },
  {
   "cell_type": "code",
   "execution_count": 14,
   "id": "d1f06409-9ea1-4819-9c7f-88e189834f74",
   "metadata": {},
   "outputs": [
    {
     "name": "stdout",
     "output_type": "stream",
     "text": [
      "kk\n",
      "              precision    recall  f1-score   support\n",
      "\n",
      "    backward     1.0000    0.9667    0.9831        30\n",
      "         bed     0.9677    1.0000    0.9836        30\n",
      "        bird     0.8750    0.7000    0.7778        30\n",
      "         cat     1.0000    0.9667    0.9831        30\n",
      "         dog     1.0000    1.0000    1.0000        30\n",
      "        down     1.0000    1.0000    1.0000        30\n",
      "       eight     1.0000    0.9667    0.9831        30\n",
      "        five     1.0000    1.0000    1.0000        30\n",
      "      follow     1.0000    0.9667    0.9831        30\n",
      "     forward     0.9677    1.0000    0.9836        30\n",
      "        four     1.0000    0.9667    0.9831        30\n",
      "          go     1.0000    0.9333    0.9655        30\n",
      "       happy     1.0000    1.0000    1.0000        30\n",
      "       house     0.9677    1.0000    0.9836        30\n",
      "       learn     1.0000    1.0000    1.0000        30\n",
      "        left     1.0000    0.9667    0.9831        30\n",
      "        nine     0.9375    1.0000    0.9677        30\n",
      "          no     0.9677    1.0000    0.9836        30\n",
      "         off     0.9677    1.0000    0.9836        30\n",
      "          on     0.7879    0.8667    0.8254        30\n",
      "         one     1.0000    0.9667    0.9831        30\n",
      "        read     1.0000    1.0000    1.0000        30\n",
      "       right     0.9375    1.0000    0.9677        30\n",
      "       seven     1.0000    0.9667    0.9831        30\n",
      "         six     0.9677    1.0000    0.9836        30\n",
      "        stop     1.0000    0.9667    0.9831        30\n",
      "       three     0.9677    1.0000    0.9836        30\n",
      "        tree     1.0000    1.0000    1.0000        30\n",
      "         two     0.9677    1.0000    0.9836        30\n",
      "          up     0.9677    1.0000    0.9836        30\n",
      "      visual     1.0000    1.0000    1.0000        30\n",
      "         wow     0.9677    1.0000    0.9836        30\n",
      "       write     1.0000    1.0000    1.0000        30\n",
      "         yes     1.0000    1.0000    1.0000        30\n",
      "        zero     1.0000    1.0000    1.0000        30\n",
      "\n",
      "    accuracy                         0.9771      1050\n",
      "   macro avg     0.9776    0.9771    0.9768      1050\n",
      "weighted avg     0.9776    0.9771    0.9768      1050\n",
      "\n"
     ]
    }
   ],
   "source": [
    "results_2('outputs/multi_kk_2/preds.json', labels)"
   ]
  },
  {
   "cell_type": "code",
   "execution_count": 15,
   "id": "e96a7470",
   "metadata": {},
   "outputs": [
    {
     "name": "stdout",
     "output_type": "stream",
     "text": [
      "100%|███████████████████████████████████████████| 42/42 [00:20<00:00,  2.01it/s]\n",
      "Saved preds to outputs/aug_multi_kk_2/preds.json\n",
      "\u001b[0m"
     ]
    }
   ],
   "source": [
    "!python3 inference.py --conf checkpoints/multi-140/kwmlp_multi_140.yaml \\\n",
    "                      --ckpt checkpoints/multi-140/best.pth \\\n",
    "                      --inp aug_test_data_kk/ \\\n",
    "                      --out outputs/aug_multi_kk_2/ \\\n",
    "                      --lmap checkpoints/multi-140/label_map.json \\\n",
    "                      --device cpu \\\n",
    "                      --batch_size 256                     "
   ]
  },
  {
   "cell_type": "code",
   "execution_count": 16,
   "id": "65323af4-f1fb-4956-89f1-59b144396aab",
   "metadata": {},
   "outputs": [
    {
     "name": "stdout",
     "output_type": "stream",
     "text": [
      "multi\n",
      "              precision    recall  f1-score   support\n",
      "\n",
      "    backward     0.9965    0.9600    0.9779       300\n",
      "         bed     0.9740    1.0000    0.9868       300\n",
      "        bird     0.8949    0.7667    0.8259       300\n",
      "         cat     0.9932    0.9667    0.9797       300\n",
      "         dog     0.9900    0.9933    0.9917       300\n",
      "        down     0.9966    0.9800    0.9882       300\n",
      "       eight     0.9899    0.9800    0.9849       300\n",
      "        five     1.0000    0.9967    0.9983       300\n",
      "      follow     0.9831    0.9667    0.9748       300\n",
      "     forward     0.9333    0.9800    0.9561       300\n",
      "        four     0.9931    0.9533    0.9728       300\n",
      "          go     0.9721    0.9300    0.9506       300\n",
      "       happy     0.9867    0.9900    0.9884       300\n",
      "       house     0.9707    0.9933    0.9819       300\n",
      "       learn     0.9739    0.9967    0.9852       300\n",
      "        left     0.9731    0.9633    0.9682       300\n",
      "        nine     0.9609    0.9833    0.9720       300\n",
      "          no     0.9739    0.9967    0.9852       300\n",
      "         off     0.9739    0.9967    0.9852       300\n",
      "          on     0.8116    0.8900    0.8490       300\n",
      "         one     0.9929    0.9300    0.9604       300\n",
      "        read     0.9867    0.9900    0.9884       300\n",
      "       right     0.9293    0.9633    0.9460       300\n",
      "       seven     0.9966    0.9633    0.9797       300\n",
      "         six     0.9612    0.9900    0.9754       300\n",
      "        stop     0.9965    0.9533    0.9744       300\n",
      "       three     0.9834    0.9900    0.9867       300\n",
      "        tree     0.9967    0.9933    0.9950       300\n",
      "         two     0.9672    0.9833    0.9752       300\n",
      "          up     0.9706    0.9900    0.9802       300\n",
      "      visual     0.9967    0.9967    0.9967       300\n",
      "         wow     0.9677    1.0000    0.9836       300\n",
      "       write     0.9967    0.9967    0.9967       300\n",
      "         yes     0.9676    0.9967    0.9819       300\n",
      "        zero     0.9738    0.9900    0.9818       300\n",
      "\n",
      "    accuracy                         0.9717     10500\n",
      "   macro avg     0.9721    0.9717    0.9716     10500\n",
      "weighted avg     0.9721    0.9717    0.9716     10500\n",
      "\n"
     ]
    }
   ],
   "source": [
    "results_2('outputs/aug_multi_kk_2/preds.json', labels)"
   ]
  },
  {
   "cell_type": "code",
   "execution_count": null,
   "id": "e5f82800-97cf-4324-9c2a-33980f48b4cc",
   "metadata": {},
   "outputs": [],
   "source": []
  }
 ],
 "metadata": {
  "kernelspec": {
   "display_name": "Python 3",
   "language": "python",
   "name": "python3"
  },
  "language_info": {
   "codemirror_mode": {
    "name": "ipython",
    "version": 3
   },
   "file_extension": ".py",
   "mimetype": "text/x-python",
   "name": "python",
   "nbconvert_exporter": "python",
   "pygments_lexer": "ipython3",
   "version": "3.8.10"
  }
 },
 "nbformat": 4,
 "nbformat_minor": 5
}
