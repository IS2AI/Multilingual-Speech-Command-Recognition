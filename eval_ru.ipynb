{
 "cells": [
  {
   "cell_type": "code",
   "execution_count": 1,
   "id": "6335c536-fe94-4bd9-a55c-5c07cb65cd08",
   "metadata": {},
   "outputs": [],
   "source": [
    "from sklearn.metrics import multilabel_confusion_matrix, classification_report, confusion_matrix\n",
    "import matplotlib.pyplot as plt\n",
    "import seaborn as sns\n",
    "import numpy as np\n",
    "import json"
   ]
  },
  {
   "cell_type": "code",
   "execution_count": 2,
   "id": "809c6fd1-3104-4537-937d-0327d00486f0",
   "metadata": {},
   "outputs": [],
   "source": [
    "labels = [\"backward\", \"forward\", \"right\", \"left\", \"down\", \"up\", \"go\", \"stop\", \"on\", \"off\", \"yes\", \"no\", \n",
    "          \"learn\", \"follow\", \"zero\", \"one\", \"two\", \"three\", \"four\", \"five\", \"six\", \"seven\", \"eight\", \n",
    "          \"nine\", \"bed\", \"bird\", \"cat\", \"dog\", \"happy\", \"house\", \"read\", \"write\", \"tree\", \"visual\", \"wow\"]"
   ]
  },
  {
   "cell_type": "code",
   "execution_count": 3,
   "id": "dbcaf5cb-f888-41bb-b67e-9c4a8391fbcf",
   "metadata": {},
   "outputs": [],
   "source": [
    "def results(preds_path, labels, print_cm=False):\n",
    "    # groundtruth and predicted \n",
    "    # labels\n",
    "    y_true = []\n",
    "    y_pred = []\n",
    "\n",
    "    # opening a JSON file\n",
    "    f = open(preds_path)\n",
    "\n",
    "    # returns JSON object as \n",
    "    # a dictionary\n",
    "    data = json.load(f)\n",
    "    # iterating through the json list\n",
    "    # and adding true and predicted labels\n",
    "    for t, p in data.items():\n",
    "        t = t.split('/')[-2]\n",
    " \n",
    "        y_true.append(t)\n",
    "        y_pred.append(p)\n",
    "\n",
    "    # closing file\n",
    "    f.close()\n",
    "    # generate the classification report\n",
    "    print(classification_report(y_true,y_pred, digits=4))\n",
    "    \n",
    "    if print_cm:\n",
    "        # generate a confusion matrix in %\n",
    "        cm = confusion_matrix(y_true, y_pred, labels=labels)\n",
    "        cmn = cm.astype('float') / cm.sum(axis=1)[:, np.newaxis] * 100\n",
    "        cmn = np.round(cmn,1)\n",
    "\n",
    "        # plot the confusion matrix in a beautiful manner\n",
    "        fig = plt.figure(figsize=(16, 16))\n",
    "        ax= plt.subplot()\n",
    "        sns.heatmap(cmn, annot=True, ax = ax, fmt=\".1f\", linewidth=.1, \n",
    "                    cmap='YlGn', cbar=False, square=True, linecolor='white')\n",
    "\n",
    "        # labels, title, and ticks\n",
    "        ax.set_xlabel('Predicted commands', fontsize=14)\n",
    "        ax.xaxis.set_label_position('bottom')\n",
    "        plt.xticks(rotation=90)\n",
    "        ax.xaxis.set_ticklabels(labels, fontsize=12)\n",
    "        ax.xaxis.tick_bottom()\n",
    "        ax.set_ylabel('Actual commands', fontsize=14)\n",
    "        ax.yaxis.set_ticklabels(labels, fontsize=12)\n",
    "        plt.yticks(rotation=0)\n",
    "        plt.title('Confusion Matrix', fontsize=16)\n",
    "        plt.savefig(\"confusion_matrix.png\")\n",
    "        plt.show()"
   ]
  },
  {
   "cell_type": "code",
   "execution_count": 4,
   "id": "d68123c0-de74-435b-b67c-5c7ccaeff204",
   "metadata": {},
   "outputs": [],
   "source": [
    "def results_2(preds_path, labels, print_cm=False):\n",
    "    # groundtruth and predicted \n",
    "    # labels\n",
    "    y_true = []\n",
    "    y_pred = []\n",
    "\n",
    "    # opening a JSON file\n",
    "    f = open(preds_path)\n",
    "    lang = preds_path.split('/')[1].split('_')[1]\n",
    "    print(lang)\n",
    "    # returns JSON object as \n",
    "    # a dictionary\n",
    "    data = json.load(f)\n",
    "    # iterating through the json list\n",
    "    # and adding true and predicted labels\n",
    "    for t, p in data.items():\n",
    "        t = t.split('/')[-2]\n",
    "        p = p.split('_')[0]\n",
    " \n",
    "        y_true.append(t)\n",
    "        y_pred.append(p)\n",
    "\n",
    "    # closing file\n",
    "    f.close()\n",
    "    # generate the classification report\n",
    "    print(classification_report(y_true,y_pred, digits=4))\n",
    "    \n",
    "    if print_cm:\n",
    "        # generate a confusion matrix in %\n",
    "        cm = confusion_matrix(y_true, y_pred, labels=labels)\n",
    "        cmn = cm.astype('float') / cm.sum(axis=1)[:, np.newaxis] * 100\n",
    "        cmn = np.round(cmn,1)\n",
    "\n",
    "        # plot the confusion matrix in a beautiful manner\n",
    "        fig = plt.figure(figsize=(16, 16))\n",
    "        ax= plt.subplot()\n",
    "        sns.heatmap(cmn, annot=True, ax = ax, fmt=\".1f\", linewidth=.1, \n",
    "                    cmap='YlGn', cbar=False, square=True, linecolor='white')\n",
    "\n",
    "        # labels, title, and ticks\n",
    "        ax.set_xlabel('Predicted commands', fontsize=14)\n",
    "        ax.xaxis.set_label_position('bottom')\n",
    "        plt.xticks(rotation=90)\n",
    "        ax.xaxis.set_ticklabels(labels, fontsize=12)\n",
    "        ax.xaxis.tick_bottom()\n",
    "        ax.set_ylabel('Actual commands', fontsize=14)\n",
    "        ax.yaxis.set_ticklabels(labels, fontsize=12)\n",
    "        plt.yticks(rotation=0)\n",
    "        plt.title('Confusion Matrix', fontsize=16)\n",
    "        plt.savefig(\"confusion_matrix.png\")\n",
    "        plt.show()\n",
    "    "
   ]
  },
  {
   "cell_type": "code",
   "execution_count": 5,
   "id": "70bf9068-02ee-44fc-838d-5129c477d93f",
   "metadata": {},
   "outputs": [
    {
     "name": "stdout",
     "output_type": "stream",
     "text": [
      "100%|█████████████████████████████████████████████| 3/3 [00:01<00:00,  1.97it/s]\n",
      "Saved preds to outputs/mono_ru/preds.json\n",
      "\u001b[0m"
     ]
    }
   ],
   "source": [
    "!python3 inference.py --conf checkpoints/mono-35-ru/kwmlp_rscd.yaml \\\n",
    "                      --ckpt checkpoints/mono-35-ru/best.pth \\\n",
    "                      --inp test_data_ru/ \\\n",
    "                      --out outputs/mono_ru/ \\\n",
    "                      --lmap checkpoints/mono-35-ru/label_map.json \\\n",
    "                      --device cpu \\\n",
    "                      --batch_size 256 "
   ]
  },
  {
   "cell_type": "code",
   "execution_count": 6,
   "id": "c10e29dd-ef02-485d-8399-a5de30b36998",
   "metadata": {},
   "outputs": [
    {
     "name": "stdout",
     "output_type": "stream",
     "text": [
      "              precision    recall  f1-score   support\n",
      "\n",
      "    backward     0.9524    1.0000    0.9756        20\n",
      "         bed     0.9524    1.0000    0.9756        20\n",
      "        bird     0.9000    0.9000    0.9000        20\n",
      "         cat     1.0000    0.9500    0.9744        20\n",
      "         dog     1.0000    1.0000    1.0000        20\n",
      "        down     1.0000    0.9000    0.9474        20\n",
      "       eight     1.0000    1.0000    1.0000        20\n",
      "        five     1.0000    0.9500    0.9744        20\n",
      "      follow     0.8947    0.8500    0.8718        20\n",
      "     forward     0.8636    0.9500    0.9048        20\n",
      "        four     1.0000    0.8500    0.9189        20\n",
      "          go     0.9524    1.0000    0.9756        20\n",
      "       happy     0.9048    0.9500    0.9268        20\n",
      "       house     0.9500    0.9500    0.9500        20\n",
      "       learn     0.9524    1.0000    0.9756        20\n",
      "        left     0.9500    0.9500    0.9500        20\n",
      "        nine     1.0000    1.0000    1.0000        20\n",
      "          no     0.9000    0.9000    0.9000        20\n",
      "         off     1.0000    1.0000    1.0000        20\n",
      "          on     1.0000    1.0000    1.0000        20\n",
      "         one     0.8636    0.9500    0.9048        20\n",
      "        read     1.0000    0.9000    0.9474        20\n",
      "       right     1.0000    1.0000    1.0000        20\n",
      "       seven     1.0000    0.9000    0.9474        20\n",
      "         six     1.0000    0.9500    0.9744        20\n",
      "        stop     0.8333    1.0000    0.9091        20\n",
      "       three     0.8182    0.9000    0.8571        20\n",
      "        tree     0.9524    1.0000    0.9756        20\n",
      "         two     0.9091    1.0000    0.9524        20\n",
      "          up     1.0000    0.9500    0.9744        20\n",
      "      visual     1.0000    0.9500    0.9744        20\n",
      "         wow     1.0000    0.9500    0.9744        20\n",
      "       write     1.0000    1.0000    1.0000        20\n",
      "         yes     1.0000    0.9500    0.9744        20\n",
      "        zero     0.9474    0.9000    0.9231        20\n",
      "\n",
      "    accuracy                         0.9543       700\n",
      "   macro avg     0.9570    0.9543    0.9546       700\n",
      "weighted avg     0.9570    0.9543    0.9546       700\n",
      "\n"
     ]
    }
   ],
   "source": [
    "results('outputs/mono_ru/preds.json', labels)"
   ]
  },
  {
   "cell_type": "code",
   "execution_count": 7,
   "id": "08983383-ed53-4653-ada8-2df450eed63d",
   "metadata": {},
   "outputs": [
    {
     "name": "stdout",
     "output_type": "stream",
     "text": [
      "100%|███████████████████████████████████████████| 28/28 [00:15<00:00,  1.76it/s]\n",
      "Saved preds to outputs/aug_mono_ru/preds.json\n",
      "\u001b[0m"
     ]
    }
   ],
   "source": [
    "!python3 inference.py --conf checkpoints/mono-35-ru/kwmlp_rscd.yaml \\\n",
    "                      --ckpt checkpoints/mono-35-ru/best.pth \\\n",
    "                      --inp aug_test_data_ru/ \\\n",
    "                      --out outputs/aug_mono_ru/ \\\n",
    "                      --lmap checkpoints/mono-35-ru/label_map.json \\\n",
    "                      --device cpu \\\n",
    "                      --batch_size 256 "
   ]
  },
  {
   "cell_type": "code",
   "execution_count": 8,
   "id": "0cd63f08-41a0-4adf-b7c0-3f7c1be1b8e4",
   "metadata": {},
   "outputs": [
    {
     "name": "stdout",
     "output_type": "stream",
     "text": [
      "              precision    recall  f1-score   support\n",
      "\n",
      "    backward     0.9343    0.9950    0.9637       200\n",
      "         bed     0.9381    0.9850    0.9610       200\n",
      "        bird     0.8873    0.9050    0.8960       200\n",
      "         cat     0.9948    0.9500    0.9719       200\n",
      "         dog     0.9899    0.9800    0.9849       200\n",
      "        down     0.9721    0.8700    0.9182       200\n",
      "       eight     0.9709    1.0000    0.9852       200\n",
      "        five     1.0000    0.9300    0.9637       200\n",
      "      follow     0.9105    0.8650    0.8872       200\n",
      "     forward     0.8610    0.9600    0.9078       200\n",
      "        four     0.9655    0.8400    0.8984       200\n",
      "          go     0.9302    1.0000    0.9639       200\n",
      "       happy     0.9139    0.9550    0.9340       200\n",
      "       house     0.8821    0.9350    0.9078       200\n",
      "       learn     0.9302    1.0000    0.9639       200\n",
      "        left     0.9588    0.9300    0.9442       200\n",
      "        nine     0.9848    0.9750    0.9799       200\n",
      "          no     0.8883    0.8750    0.8816       200\n",
      "         off     1.0000    0.9750    0.9873       200\n",
      "          on     0.9434    1.0000    0.9709       200\n",
      "         one     0.9005    0.9500    0.9246       200\n",
      "        read     0.9945    0.9050    0.9476       200\n",
      "       right     0.9752    0.9850    0.9801       200\n",
      "       seven     1.0000    0.9250    0.9610       200\n",
      "         six     0.9895    0.9450    0.9668       200\n",
      "        stop     0.8369    0.9750    0.9007       200\n",
      "       three     0.8372    0.9000    0.8675       200\n",
      "        tree     0.9652    0.9700    0.9676       200\n",
      "         two     0.9078    0.9850    0.9448       200\n",
      "          up     0.9791    0.9350    0.9565       200\n",
      "      visual     0.9948    0.9500    0.9719       200\n",
      "         wow     0.9895    0.9450    0.9668       200\n",
      "       write     1.0000    0.9950    0.9975       200\n",
      "         yes     0.9839    0.9150    0.9482       200\n",
      "        zero     0.9565    0.8800    0.9167       200\n",
      "\n",
      "    accuracy                         0.9453      7000\n",
      "   macro avg     0.9476    0.9453    0.9454      7000\n",
      "weighted avg     0.9476    0.9453    0.9454      7000\n",
      "\n"
     ]
    }
   ],
   "source": [
    "results('outputs/aug_mono_ru/preds.json', labels)"
   ]
  },
  {
   "cell_type": "code",
   "execution_count": 9,
   "id": "a82f470e-0606-4598-8c02-1bc2219c143b",
   "metadata": {},
   "outputs": [
    {
     "name": "stdout",
     "output_type": "stream",
     "text": [
      "100%|█████████████████████████████████████████████| 3/3 [00:01<00:00,  2.05it/s]\n",
      "Saved preds to outputs/multi_ru/preds.json\n",
      "\u001b[0m"
     ]
    }
   ],
   "source": [
    "!python3 inference.py --conf checkpoints/multi-35/kwmlp_multi_35.yaml \\\n",
    "                      --ckpt checkpoints/multi-35/best.pth \\\n",
    "                      --inp test_data_ru/ \\\n",
    "                      --out outputs/multi_ru/ \\\n",
    "                      --lmap checkpoints/multi-35/label_map.json \\\n",
    "                      --device cpu \\\n",
    "                      --batch_size 256 "
   ]
  },
  {
   "cell_type": "code",
   "execution_count": 10,
   "id": "7c99ef75-d90a-4ef8-a227-6b3854bcc152",
   "metadata": {},
   "outputs": [
    {
     "name": "stdout",
     "output_type": "stream",
     "text": [
      "              precision    recall  f1-score   support\n",
      "\n",
      "    backward     0.9524    1.0000    0.9756        20\n",
      "         bed     1.0000    1.0000    1.0000        20\n",
      "        bird     0.9524    1.0000    0.9756        20\n",
      "         cat     1.0000    1.0000    1.0000        20\n",
      "         dog     0.9524    1.0000    0.9756        20\n",
      "        down     0.8636    0.9500    0.9048        20\n",
      "       eight     1.0000    0.9000    0.9474        20\n",
      "        five     1.0000    1.0000    1.0000        20\n",
      "      follow     0.9500    0.9500    0.9500        20\n",
      "     forward     1.0000    0.9500    0.9744        20\n",
      "        four     1.0000    0.9000    0.9474        20\n",
      "          go     0.9524    1.0000    0.9756        20\n",
      "       happy     1.0000    0.9500    0.9744        20\n",
      "       house     0.9474    0.9000    0.9231        20\n",
      "       learn     1.0000    1.0000    1.0000        20\n",
      "        left     1.0000    0.9500    0.9744        20\n",
      "        nine     1.0000    1.0000    1.0000        20\n",
      "          no     0.9524    1.0000    0.9756        20\n",
      "         off     0.9524    1.0000    0.9756        20\n",
      "          on     0.9500    0.9500    0.9500        20\n",
      "         one     0.9091    1.0000    0.9524        20\n",
      "        read     0.9524    1.0000    0.9756        20\n",
      "       right     1.0000    0.9500    0.9744        20\n",
      "       seven     1.0000    0.9000    0.9474        20\n",
      "         six     1.0000    0.9000    0.9474        20\n",
      "        stop     1.0000    1.0000    1.0000        20\n",
      "       three     0.8333    1.0000    0.9091        20\n",
      "        tree     1.0000    1.0000    1.0000        20\n",
      "         two     1.0000    0.9500    0.9744        20\n",
      "          up     0.9500    0.9500    0.9500        20\n",
      "      visual     0.9524    1.0000    0.9756        20\n",
      "         wow     1.0000    0.9500    0.9744        20\n",
      "       write     0.9524    1.0000    0.9756        20\n",
      "         yes     1.0000    0.9000    0.9474        20\n",
      "        zero     1.0000    1.0000    1.0000        20\n",
      "\n",
      "    accuracy                         0.9686       700\n",
      "   macro avg     0.9707    0.9686    0.9687       700\n",
      "weighted avg     0.9707    0.9686    0.9687       700\n",
      "\n"
     ]
    }
   ],
   "source": [
    "results('outputs/multi_ru/preds.json', labels)"
   ]
  },
  {
   "cell_type": "code",
   "execution_count": 11,
   "id": "12b05b71-3402-4da5-a1fa-97934383caf9",
   "metadata": {},
   "outputs": [
    {
     "name": "stdout",
     "output_type": "stream",
     "text": [
      "100%|███████████████████████████████████████████| 28/28 [00:13<00:00,  2.13it/s]\n",
      "Saved preds to outputs/aug_multi_ru/preds.json\n",
      "\u001b[0m"
     ]
    }
   ],
   "source": [
    "!python3 inference.py --conf checkpoints/multi-35/kwmlp_multi_35.yaml \\\n",
    "                      --ckpt checkpoints/multi-35/best.pth \\\n",
    "                      --inp aug_test_data_ru/ \\\n",
    "                      --out outputs/aug_multi_ru/ \\\n",
    "                      --lmap checkpoints/multi-35/label_map.json \\\n",
    "                      --device cpu \\\n",
    "                      --batch_size 256 "
   ]
  },
  {
   "cell_type": "code",
   "execution_count": 12,
   "id": "da915328-d583-4efe-8a9a-3a65f36f0275",
   "metadata": {},
   "outputs": [
    {
     "name": "stdout",
     "output_type": "stream",
     "text": [
      "              precision    recall  f1-score   support\n",
      "\n",
      "    backward     0.9612    0.9900    0.9754       200\n",
      "         bed     1.0000    0.9900    0.9950       200\n",
      "        bird     0.9471    0.9850    0.9657       200\n",
      "         cat     0.9852    1.0000    0.9926       200\n",
      "         dog     0.9754    0.9900    0.9826       200\n",
      "        down     0.9126    0.9400    0.9261       200\n",
      "       eight     1.0000    0.9100    0.9529       200\n",
      "        five     1.0000    1.0000    1.0000       200\n",
      "      follow     0.9497    0.9450    0.9474       200\n",
      "     forward     0.9947    0.9400    0.9666       200\n",
      "        four     0.9830    0.8650    0.9202       200\n",
      "          go     0.9346    1.0000    0.9662       200\n",
      "       happy     0.9797    0.9650    0.9723       200\n",
      "       house     0.9314    0.9500    0.9406       200\n",
      "       learn     0.9901    1.0000    0.9950       200\n",
      "        left     0.9894    0.9350    0.9614       200\n",
      "        nine     0.9950    0.9900    0.9925       200\n",
      "          no     0.9606    0.9750    0.9677       200\n",
      "         off     0.9519    0.9900    0.9706       200\n",
      "          on     0.9497    0.9450    0.9474       200\n",
      "         one     0.9479    1.0000    0.9732       200\n",
      "        read     0.9522    0.9950    0.9731       200\n",
      "       right     0.9897    0.9650    0.9772       200\n",
      "       seven     0.9791    0.9350    0.9565       200\n",
      "         six     1.0000    0.9000    0.9474       200\n",
      "        stop     0.9901    1.0000    0.9950       200\n",
      "       three     0.8362    0.9700    0.8981       200\n",
      "        tree     0.9852    1.0000    0.9926       200\n",
      "         two     0.9897    0.9650    0.9772       200\n",
      "          up     0.9646    0.9550    0.9598       200\n",
      "      visual     0.9346    1.0000    0.9662       200\n",
      "         wow     1.0000    0.9500    0.9744       200\n",
      "       write     0.9522    0.9950    0.9731       200\n",
      "         yes     0.9788    0.9250    0.9512       200\n",
      "        zero     0.9949    0.9800    0.9874       200\n",
      "\n",
      "    accuracy                         0.9669      7000\n",
      "   macro avg     0.9682    0.9669    0.9669      7000\n",
      "weighted avg     0.9682    0.9669    0.9669      7000\n",
      "\n"
     ]
    }
   ],
   "source": [
    "results('outputs/aug_multi_ru/preds.json', labels)"
   ]
  },
  {
   "cell_type": "code",
   "execution_count": 13,
   "id": "4dd07360-a525-43a4-888b-4e98b062ab57",
   "metadata": {},
   "outputs": [
    {
     "name": "stdout",
     "output_type": "stream",
     "text": [
      "100%|█████████████████████████████████████████████| 3/3 [00:01<00:00,  2.13it/s]\n",
      "Saved preds to outputs/multi_ru_2/preds.json\n",
      "\u001b[0m"
     ]
    }
   ],
   "source": [
    "!python3 inference.py --conf checkpoints/multi-140/kwmlp_multi_140.yaml \\\n",
    "                      --ckpt checkpoints/multi-140/best.pth \\\n",
    "                      --inp test_data_ru/ \\\n",
    "                      --out outputs/multi_ru_2/ \\\n",
    "                      --lmap checkpoints/multi-140/label_map.json \\\n",
    "                      --device cpu \\\n",
    "                      --batch_size 256 "
   ]
  },
  {
   "cell_type": "code",
   "execution_count": 14,
   "id": "d1f06409-9ea1-4819-9c7f-88e189834f74",
   "metadata": {},
   "outputs": [
    {
     "name": "stdout",
     "output_type": "stream",
     "text": [
      "ru\n",
      "              precision    recall  f1-score   support\n",
      "\n",
      "    backward     0.9524    1.0000    0.9756        20\n",
      "         bed     1.0000    1.0000    1.0000        20\n",
      "        bird     0.9500    0.9500    0.9500        20\n",
      "         cat     0.9524    1.0000    0.9756        20\n",
      "         dog     1.0000    1.0000    1.0000        20\n",
      "        down     0.9500    0.9500    0.9500        20\n",
      "       eight     1.0000    0.9000    0.9474        20\n",
      "        five     1.0000    1.0000    1.0000        20\n",
      "      follow     0.9000    0.9000    0.9000        20\n",
      "     forward     0.9444    0.8500    0.8947        20\n",
      "        four     0.9500    0.9500    0.9500        20\n",
      "          go     0.9524    1.0000    0.9756        20\n",
      "       happy     1.0000    1.0000    1.0000        20\n",
      "       house     0.9474    0.9000    0.9231        20\n",
      "       learn     0.9524    1.0000    0.9756        20\n",
      "        left     1.0000    0.9500    0.9744        20\n",
      "        nine     0.9500    0.9500    0.9500        20\n",
      "          no     1.0000    0.9500    0.9744        20\n",
      "         off     0.9524    1.0000    0.9756        20\n",
      "          on     0.9500    0.9500    0.9500        20\n",
      "         one     0.9524    1.0000    0.9756        20\n",
      "        read     1.0000    0.9500    0.9744        20\n",
      "       right     1.0000    1.0000    1.0000        20\n",
      "       seven     1.0000    0.9000    0.9474        20\n",
      "         six     0.9474    0.9000    0.9231        20\n",
      "        stop     0.9524    1.0000    0.9756        20\n",
      "       three     0.9091    1.0000    0.9524        20\n",
      "        tree     0.9524    1.0000    0.9756        20\n",
      "         two     1.0000    0.9500    0.9744        20\n",
      "          up     1.0000    1.0000    1.0000        20\n",
      "      visual     0.8696    1.0000    0.9302        20\n",
      "         wow     1.0000    0.9500    0.9744        20\n",
      "       write     0.9524    1.0000    0.9756        20\n",
      "         yes     1.0000    0.9500    0.9744        20\n",
      "        zero     1.0000    1.0000    1.0000        20\n",
      "\n",
      "    accuracy                         0.9657       700\n",
      "   macro avg     0.9668    0.9657    0.9656       700\n",
      "weighted avg     0.9668    0.9657    0.9656       700\n",
      "\n"
     ]
    }
   ],
   "source": [
    "results_2('outputs/multi_ru_2/preds.json', labels)"
   ]
  },
  {
   "cell_type": "code",
   "execution_count": 15,
   "id": "e96a7470",
   "metadata": {},
   "outputs": [
    {
     "name": "stdout",
     "output_type": "stream",
     "text": [
      "100%|███████████████████████████████████████████| 28/28 [00:15<00:00,  1.78it/s]\n",
      "Saved preds to outputs/aug_multi_ru_2/preds.json\n",
      "\u001b[0m"
     ]
    }
   ],
   "source": [
    "!python3 inference.py --conf checkpoints/multi-140/kwmlp_multi_140.yaml \\\n",
    "                      --ckpt checkpoints/multi-140/best.pth \\\n",
    "                      --inp aug_test_data_ru/ \\\n",
    "                      --out outputs/aug_multi_ru_2/ \\\n",
    "                      --lmap checkpoints/multi-140/label_map.json \\\n",
    "                      --device cpu \\\n",
    "                      --batch_size 256                     "
   ]
  },
  {
   "cell_type": "code",
   "execution_count": 16,
   "id": "65323af4-f1fb-4956-89f1-59b144396aab",
   "metadata": {},
   "outputs": [
    {
     "name": "stdout",
     "output_type": "stream",
     "text": [
      "multi\n",
      "              precision    recall  f1-score   support\n",
      "\n",
      "    backward     0.9660    0.9950    0.9803       200\n",
      "         bed     0.9802    0.9900    0.9851       200\n",
      "        bird     0.9466    0.9750    0.9606       200\n",
      "         cat     0.9569    1.0000    0.9780       200\n",
      "         dog     0.9851    0.9950    0.9900       200\n",
      "        down     0.9485    0.9200    0.9340       200\n",
      "       eight     0.9895    0.9400    0.9641       200\n",
      "        five     0.9899    0.9850    0.9875       200\n",
      "      follow     0.9184    0.9000    0.9091       200\n",
      "     forward     0.9514    0.8800    0.9143       200\n",
      "        four     0.9474    0.9000    0.9231       200\n",
      "          go     0.9479    1.0000    0.9732       200\n",
      "       happy     0.9900    0.9900    0.9900       200\n",
      "       house     0.9444    0.9350    0.9397       200\n",
      "       learn     0.9706    0.9900    0.9802       200\n",
      "        left     0.9794    0.9500    0.9645       200\n",
      "        nine     0.9798    0.9700    0.9749       200\n",
      "          no     0.9844    0.9450    0.9643       200\n",
      "         off     0.9662    1.0000    0.9828       200\n",
      "          on     0.9847    0.9650    0.9747       200\n",
      "         one     0.9569    1.0000    0.9780       200\n",
      "        read     0.9846    0.9600    0.9722       200\n",
      "       right     1.0000    0.9850    0.9924       200\n",
      "       seven     0.9892    0.9150    0.9506       200\n",
      "         six     0.9677    0.9000    0.9326       200\n",
      "        stop     0.9434    1.0000    0.9709       200\n",
      "       three     0.8807    0.9600    0.9187       200\n",
      "        tree     0.9612    0.9900    0.9754       200\n",
      "         two     0.9848    0.9700    0.9773       200\n",
      "          up     0.9948    0.9650    0.9797       200\n",
      "      visual     0.8889    1.0000    0.9412       200\n",
      "         wow     0.9948    0.9500    0.9719       200\n",
      "       write     0.9434    1.0000    0.9709       200\n",
      "         yes     0.9795    0.9550    0.9671       200\n",
      "        zero     0.9950    0.9900    0.9925       200\n",
      "\n",
      "    accuracy                         0.9647      7000\n",
      "   macro avg     0.9655    0.9647    0.9646      7000\n",
      "weighted avg     0.9655    0.9647    0.9646      7000\n",
      "\n"
     ]
    }
   ],
   "source": [
    "results_2('outputs/aug_multi_ru_2/preds.json', labels)"
   ]
  },
  {
   "cell_type": "code",
   "execution_count": null,
   "id": "30f55761-52f5-4b96-94ee-2d7d9177ae3d",
   "metadata": {},
   "outputs": [],
   "source": []
  }
 ],
 "metadata": {
  "kernelspec": {
   "display_name": "Python 3",
   "language": "python",
   "name": "python3"
  },
  "language_info": {
   "codemirror_mode": {
    "name": "ipython",
    "version": 3
   },
   "file_extension": ".py",
   "mimetype": "text/x-python",
   "name": "python",
   "nbconvert_exporter": "python",
   "pygments_lexer": "ipython3",
   "version": "3.8.10"
  }
 },
 "nbformat": 4,
 "nbformat_minor": 5
}
